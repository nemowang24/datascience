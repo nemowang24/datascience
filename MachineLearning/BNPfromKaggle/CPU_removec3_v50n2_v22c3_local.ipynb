{
 "cells": [
  {
   "cell_type": "code",
   "id": "initial_id",
   "metadata": {
    "ExecuteTime": {
     "end_time": "2024-12-03T16:25:03.787520Z",
     "start_time": "2024-12-03T16:25:03.785230Z"
    }
   },
   "source": [
    "# !python -m pip install --upgrade pip\n",
    "# !pip install numpy\n",
    "# !pip install pandas\n",
    "# !pip install itertools\n",
    "# !pip install catboost\n",
    "# !pip install scikit-learn"
   ],
   "outputs": [],
   "execution_count": 1
  },
  {
   "cell_type": "code",
   "id": "6d42d3719fb05235",
   "metadata": {
    "ExecuteTime": {
     "end_time": "2024-12-03T16:25:04.297362Z",
     "start_time": "2024-12-03T16:25:03.789525Z"
    }
   },
   "source": [
    "import numpy as np\n",
    "import pandas as pd\n",
    "import joblib\n",
    "import os\n",
    "import operator\n",
    "from itertools import combinations\n",
    "from itertools import product\n",
    "import gc\n",
    "import catboost as cat\n",
    "import multiprocessing\n",
    "from joblib import Parallel, delayed\n",
    "from sklearn.base import BaseEstimator\n",
    "from sklearn.base import TransformerMixin\n",
    "\n",
    "os.chdir(r\"D:\\MyDrive2\\pythonprojects\\class\\ML\\BNP\\data\")"
   ],
   "outputs": [],
   "execution_count": 2
  },
  {
   "cell_type": "markdown",
   "id": "1dc75679215c6236",
   "metadata": {},
   "source": [
    "# Load Data"
   ]
  },
  {
   "cell_type": "code",
   "id": "ca0b0d09669a629",
   "metadata": {
    "ExecuteTime": {
     "end_time": "2024-12-03T16:25:04.410895Z",
     "start_time": "2024-12-03T16:25:04.408367Z"
    }
   },
   "source": [
    "# train_file_path = r\"D:\\MyDrive\\pythonprojects\\class\\ML\\BNP\\data\\train.csv\"\n",
    "# test_file_path = r\"D:\\MyDrive\\pythonprojects\\class\\ML\\BNP\\data\\test.csv\"\n",
    "# submission_sample_file_path = r\"D:\\MyDrive\\pythonprojects\\class\\ML\\BNP\\data\\sample_submission.csv\"\n",
    "# submission_file_path = r\"D:\\MyDrive\\pythonprojects\\class\\ML\\BNP\\data\\submission.csv\"\n",
    "# good_feature_path = r\"D:\\MyDrive\\pythonprojects\\class\\ML\\BNP\\assignment\\featimp_20241012_1720_8gpu_num2cat_num999_longparam.csv\"\n",
    "\n",
    "train_file_path = r\"train.csv\"\n",
    "test_file_path = r\"test.csv\"\n",
    "submission_sample_file_path = r\"sample_submission.csv\"\n",
    "submission_file_path = r\"submission.csv\"\n",
    "# good_feature_path = r\"D:\\MyDrive\\pythonprojects\\class\\ML\\BNP\\assignment\\featimp_20241012_1720_8gpu_num2cat_num999_longparam.csv\"\n"
   ],
   "outputs": [],
   "execution_count": 3
  },
  {
   "cell_type": "code",
   "id": "794e3ba13171260e",
   "metadata": {
    "ExecuteTime": {
     "end_time": "2024-12-03T16:25:06.206430Z",
     "start_time": "2024-12-03T16:25:04.417250Z"
    }
   },
   "source": [
    "train = pd.read_csv(train_file_path)\n",
    "test = pd.read_csv(test_file_path)\n",
    "y = train['target']\n",
    "train.drop('target', axis=1, inplace=True)\n",
    "train.drop('ID', axis=1, inplace=True)\n",
    "train.drop('v74', axis=1, inplace=True)  #v74, v3 are univariate\n",
    "train.drop('v3', axis=1, inplace=True)\n",
    "test.drop('ID', axis=1, inplace=True) #ID is useless\n",
    "test.drop('v74', axis=1, inplace=True)\n",
    "test.drop('v3', axis=1, inplace=True)\n",
    "\n",
    "# train = train[:50]\n",
    "# test = test[:50]\n",
    "# y = y[:50]\n"
   ],
   "outputs": [],
   "execution_count": 4
  },
  {
   "cell_type": "markdown",
   "id": "6a5ba5ed4754ab6",
   "metadata": {},
   "source": [
    "## Convert Low Cardinality Numerical to Categorical"
   ]
  },
  {
   "cell_type": "code",
   "id": "ca878a0d6adafa2e",
   "metadata": {
    "ExecuteTime": {
     "end_time": "2024-12-03T16:25:06.310494Z",
     "start_time": "2024-12-03T16:25:06.224487Z"
    }
   },
   "source": [
    "# modify numerical features v62 v129 v38 v72 to categorical features\n",
    "num_2_cat_list = ['v62', 'v129', 'v38', 'v72']\n",
    "for c in num_2_cat_list:\n",
    "    train[c] = train[c].astype('string')\n",
    "    train[c] = train[c].astype('O')\n",
    "for c in num_2_cat_list:\n",
    "    test[c] = test[c].astype('string')\n",
    "    test[c] = test[c].astype('O')"
   ],
   "outputs": [],
   "execution_count": 5
  },
  {
   "cell_type": "code",
   "id": "69dd9d00c14a3c19",
   "metadata": {
    "ExecuteTime": {
     "end_time": "2024-12-03T16:25:06.328496Z",
     "start_time": "2024-12-03T16:25:06.326477Z"
    }
   },
   "source": [
    "## Calculate feature's correlation with target, remove useless features"
   ],
   "outputs": [],
   "execution_count": 6
  },
  {
   "cell_type": "code",
   "id": "566d765c2f362785",
   "metadata": {
    "ExecuteTime": {
     "end_time": "2024-12-03T16:25:06.339902Z",
     "start_time": "2024-12-03T16:25:06.336889Z"
    }
   },
   "source": [
    "def calc_rel(df: pd.DataFrame, target_col: pd.Series, list1: list) -> dict:\n",
    "    \"\"\"calculate correlation\n",
    "    @list1: a list of columns in df, to calculate with target_col\"\"\"\n",
    "    correlations = dict()\n",
    "    for col in list1:\n",
    "        if df[col].dtype == 'O':\n",
    "            corr = target_col.corr(df[col].astype('category').cat.codes)\n",
    "        else:\n",
    "            corr = target_col.corr(df[col])\n",
    "        if not np.isnan(corr):\n",
    "            correlations[col] = abs(corr)\n",
    "    correlations = sorted(correlations.items(), key=lambda item: item[1], reverse=True)\n",
    "    return correlations\n"
   ],
   "outputs": [],
   "execution_count": 7
  },
  {
   "cell_type": "code",
   "id": "52236e810bdc4aaa",
   "metadata": {
    "ExecuteTime": {
     "end_time": "2024-12-03T16:25:06.499238Z",
     "start_time": "2024-12-03T16:25:06.347227Z"
    }
   },
   "source": [
    "#corr works on numerical column\n",
    "num_cols = train.select_dtypes(include=['number']).columns\n",
    "num_corr = calc_rel(train, y, num_cols)\n",
    "# use 0.03 as threshold\n",
    "num_corr = pd.DataFrame(num_corr[:30],columns=['feature','importance'])"
   ],
   "outputs": [],
   "execution_count": 8
  },
  {
   "cell_type": "code",
   "id": "d3dc4e8bcb5b56b4",
   "metadata": {
    "ExecuteTime": {
     "end_time": "2024-12-03T16:25:06.509897Z",
     "start_time": "2024-12-03T16:25:06.507482Z"
    }
   },
   "source": [
    "num_cols = num_corr['feature'].to_list()"
   ],
   "outputs": [],
   "execution_count": 9
  },
  {
   "cell_type": "code",
   "id": "96e35a4bdf2ee433",
   "metadata": {
    "ExecuteTime": {
     "end_time": "2024-12-03T16:25:06.519452Z",
     "start_time": "2024-12-03T16:25:06.517399Z"
    }
   },
   "source": [],
   "outputs": [],
   "execution_count": null
  },
  {
   "cell_type": "code",
   "id": "2fc0bc5c-3e6d-4fd7-97bf-b2b588f8873d",
   "metadata": {
    "ExecuteTime": {
     "end_time": "2024-12-03T16:25:06.552866Z",
     "start_time": "2024-12-03T16:25:06.526862Z"
    }
   },
   "source": [
    "#round num to 2 decimals\n",
    "for col in num_cols:\n",
    "    train[col] = np.round(train[col],2)\n",
    "for col in num_cols:\n",
    "    test[col] = np.round(test[col],2)"
   ],
   "outputs": [],
   "execution_count": 10
  },
  {
   "cell_type": "code",
   "id": "edb29553d99bebe0",
   "metadata": {
    "ExecuteTime": {
     "end_time": "2024-12-03T16:25:06.686049Z",
     "start_time": "2024-12-03T16:25:06.560991Z"
    }
   },
   "source": [
    "cat_cols = train.select_dtypes(exclude=['number']).columns\n",
    "cat_corr = pd.DataFrame(calc_rel(train, y, cat_cols), columns=['feature', 'correlation'])\n",
    "cat_cols = cat_corr['feature'].to_list()"
   ],
   "outputs": [],
   "execution_count": 11
  },
  {
   "cell_type": "code",
   "id": "37b252671cc31dbb",
   "metadata": {
    "ExecuteTime": {
     "end_time": "2024-12-03T16:25:06.698008Z",
     "start_time": "2024-12-03T16:25:06.695005Z"
    }
   },
   "source": [
    "#combine the cat and num cols\n",
    "sorted_num_list = [i for i in num_cols]\n",
    "sorted_cat_list = [i for i in cat_cols]\n",
    "keep_cols = sorted_num_list + sorted_cat_list"
   ],
   "outputs": [],
   "execution_count": 12
  },
  {
   "cell_type": "code",
   "id": "45590d56d46d4e86",
   "metadata": {
    "ExecuteTime": {
     "end_time": "2024-12-03T16:25:06.760797Z",
     "start_time": "2024-12-03T16:25:06.707322Z"
    }
   },
   "source": [
    "#drop useless from the train and test\n",
    "train = train[keep_cols]\n",
    "test = test[keep_cols]"
   ],
   "outputs": [],
   "execution_count": 13
  },
  {
   "cell_type": "code",
   "id": "5684cd46cb9a9267",
   "metadata": {
    "ExecuteTime": {
     "end_time": "2024-12-03T16:25:06.912953Z",
     "start_time": "2024-12-03T16:25:06.770073Z"
    }
   },
   "source": [
    "#fill nan values\n",
    "for col in sorted_cat_list:\n",
    "    train.fillna({col:'NA'},inplace=True)\n",
    "    # test[col] = test[col].fillna('NA')\n",
    "    test.fillna({col:'NA'},inplace=True)\n",
    "    "
   ],
   "outputs": [],
   "execution_count": 14
  },
  {
   "cell_type": "code",
   "id": "c6d9031555027da8",
   "metadata": {
    "ExecuteTime": {
     "end_time": "2024-12-03T16:25:07.041307Z",
     "start_time": "2024-12-03T16:25:06.924094Z"
    }
   },
   "source": [
    "for col in sorted_num_list:\n",
    "    # mean = train[col].mean(skipna=True)\n",
    "    train[col] = train[col].fillna(-999)\n",
    "    test[col] = test[col].fillna(-999)\n",
    "\n",
    "assert (train.isnull().sum().sum() == 0)\n",
    "assert (test.isnull().sum().sum() == 0)"
   ],
   "outputs": [],
   "execution_count": 15
  },
  {
   "cell_type": "code",
   "id": "63df5d7aa55613e2",
   "metadata": {
    "ExecuteTime": {
     "end_time": "2024-12-03T16:25:07.052861Z",
     "start_time": "2024-12-03T16:25:07.049846Z"
    }
   },
   "source": [
    "#get 99% percent importance\n",
    "def get_n_per_corr(org_df: pd.DataFrame, target_per: float = 0.99) -> pd.DataFrame:\n",
    "    \"\"\"df[correlation] should be descending ordered\"\"\"\n",
    "    df = org_df.copy()\n",
    "    df = df.sort_values(by='correlation', ascending=False, inplace=False)\n",
    "    #normalization\n",
    "    df['correlation'] = df['correlation'] / np.sum(df['correlation'])\n",
    "    cum_relation = 0\n",
    "    for i in range(len(df)):\n",
    "        cum_relation += df.iloc[i]['correlation']\n",
    "        if cum_relation >= target_per:\n",
    "            break\n",
    "    new_df = df.iloc[0:i + 1]\n",
    "    print(i, cum_relation, new_df.shape)\n",
    "    return new_df"
   ],
   "outputs": [],
   "execution_count": 16
  },
  {
   "cell_type": "code",
   "id": "6181c9239791848f",
   "metadata": {
    "ExecuteTime": {
     "end_time": "2024-12-03T16:25:08.567866Z",
     "start_time": "2024-12-03T16:25:07.061778Z"
    }
   },
   "source": [
    "#2-way combination for cat feat\n",
    "c2 = list(combinations(sorted_cat_list, 2))\n",
    "names_cs = [c[1] + c[0] for c in c2]\n",
    "train_c2 = pd.concat([train[c[1]] + train[c[0]] for c in c2], axis=1, keys=names_cs)\n",
    "test_c2 = pd.concat([test[c[1]] + test[c[0]] for c in c2], axis=1, keys=names_cs)"
   ],
   "outputs": [],
   "execution_count": 17
  },
  {
   "cell_type": "code",
   "id": "efb0381db290e5f7",
   "metadata": {
    "ExecuteTime": {
     "end_time": "2024-12-03T16:25:10.959174Z",
     "start_time": "2024-12-03T16:25:08.581337Z"
    }
   },
   "source": [
    "#v22 + c2\n",
    "catcol_without_v22 = [i for i in sorted_cat_list if i != 'v22']\n",
    "\n",
    "# First generate combination part without v22, then generate a new pair combine with v22\n",
    "cc2_no_v22 = list(combinations(catcol_without_v22, 2))\n",
    "v22_cc2 = list(product(['v22'], cc2_no_v22))\n",
    "column_names = [c[0] + '_' + c[1][0] + '_' + c[1][1] for c in v22_cc2]\n",
    "\n",
    "train_v22c2 = pd.concat([train[c[0]] + train[c[1][0]] + train[c[1][1]] for c in v22_cc2], axis=1, keys=column_names)\n",
    "train_v22c2.head()\n",
    "\n",
    "test_v22c2 = pd.concat([test[c[0]] + test[c[1][0]] + test[c[1][1]] for c in v22_cc2], axis=1, keys=column_names)\n",
    "test_v22c2.head()"
   ],
   "outputs": [
    {
     "data": {
      "text/plain": [
       "  v22_v110_v47 v22_v110_v31 v22_v110_v129 v22_v110_v113 v22_v110_v62  \\\n",
       "0       AFPBAJ       AFPBAA        AFPBA0       AFPBANA       AFPBA1   \n",
       "1        FOGBC        FOGBA         FOGB0        FOGBNA        FOGB1   \n",
       "2        HXZAI        HXZAA         HXZA0        HXZAAJ        HXZA1   \n",
       "3       AGMUAI       AGMUAA        AGMUA0        AGMUAG       AGMUA1   \n",
       "4        AWWAI        AWWAA         AWWA0         AWWAI        AWWA2   \n",
       "\n",
       "  v22_v110_v72 v22_v110_v38 v22_v110_v66 v22_v110_v79 v22_v110_v56  ...  \\\n",
       "0       AFPBA1       AFPBA0       AFPBAA       AFPBAQ      AFPBAAF  ...   \n",
       "1        FOGB5        FOGB4        FOGBC        FOGBE       FOGBDI  ...   \n",
       "2        HXZA1        HXZA0        HXZAC        HXZAC       HXZADO  ...   \n",
       "3       AGMUA1       AGMUA0       AGMUAB       AGMUAC      AGMUACN  ...   \n",
       "4        AWWA2        AWWA0        AWWAB        AWWAC       AWWANA  ...   \n",
       "\n",
       "  v22_v91_v75 v22_v91_v71 v22_v91_v125 v22_v91_v52 v22_v75_v71 v22_v75_v125  \\\n",
       "0      AFPBBD      AFPBBF      AFPBBAF      AFPBBC      AFPBDF      AFPBDAF   \n",
       "1       FOGCD       FOGCF        FOGCI       FOGCA       FOGDF        FOGDI   \n",
       "2       HXZCD       HXZCF       HXZCAV       HXZCA       HXZDF       HXZDAV   \n",
       "3      AGMUBD      AGMUBF       AGMUBB      AGMUBA      AGMUDF       AGMUDB   \n",
       "4       AWWBD       AWWBF        AWWBA       AWWBH       AWWDF        AWWDA   \n",
       "\n",
       "  v22_v75_v52 v22_v71_v125 v22_v71_v52 v22_v125_v52  \n",
       "0      AFPBDC      AFPBFAF      AFPBFC      AFPBAFC  \n",
       "1       FOGDA        FOGFI       FOGFA        FOGIA  \n",
       "2       HXZDA       HXZFAV       HXZFA       HXZAVA  \n",
       "3      AGMUDA       AGMUFB      AGMUFA       AGMUBA  \n",
       "4       AWWDH        AWWFA       AWWFH        AWWAH  \n",
       "\n",
       "[5 rows x 190 columns]"
      ],
      "text/html": [
       "<div>\n",
       "<style scoped>\n",
       "    .dataframe tbody tr th:only-of-type {\n",
       "        vertical-align: middle;\n",
       "    }\n",
       "\n",
       "    .dataframe tbody tr th {\n",
       "        vertical-align: top;\n",
       "    }\n",
       "\n",
       "    .dataframe thead th {\n",
       "        text-align: right;\n",
       "    }\n",
       "</style>\n",
       "<table border=\"1\" class=\"dataframe\">\n",
       "  <thead>\n",
       "    <tr style=\"text-align: right;\">\n",
       "      <th></th>\n",
       "      <th>v22_v110_v47</th>\n",
       "      <th>v22_v110_v31</th>\n",
       "      <th>v22_v110_v129</th>\n",
       "      <th>v22_v110_v113</th>\n",
       "      <th>v22_v110_v62</th>\n",
       "      <th>v22_v110_v72</th>\n",
       "      <th>v22_v110_v38</th>\n",
       "      <th>v22_v110_v66</th>\n",
       "      <th>v22_v110_v79</th>\n",
       "      <th>v22_v110_v56</th>\n",
       "      <th>...</th>\n",
       "      <th>v22_v91_v75</th>\n",
       "      <th>v22_v91_v71</th>\n",
       "      <th>v22_v91_v125</th>\n",
       "      <th>v22_v91_v52</th>\n",
       "      <th>v22_v75_v71</th>\n",
       "      <th>v22_v75_v125</th>\n",
       "      <th>v22_v75_v52</th>\n",
       "      <th>v22_v71_v125</th>\n",
       "      <th>v22_v71_v52</th>\n",
       "      <th>v22_v125_v52</th>\n",
       "    </tr>\n",
       "  </thead>\n",
       "  <tbody>\n",
       "    <tr>\n",
       "      <th>0</th>\n",
       "      <td>AFPBAJ</td>\n",
       "      <td>AFPBAA</td>\n",
       "      <td>AFPBA0</td>\n",
       "      <td>AFPBANA</td>\n",
       "      <td>AFPBA1</td>\n",
       "      <td>AFPBA1</td>\n",
       "      <td>AFPBA0</td>\n",
       "      <td>AFPBAA</td>\n",
       "      <td>AFPBAQ</td>\n",
       "      <td>AFPBAAF</td>\n",
       "      <td>...</td>\n",
       "      <td>AFPBBD</td>\n",
       "      <td>AFPBBF</td>\n",
       "      <td>AFPBBAF</td>\n",
       "      <td>AFPBBC</td>\n",
       "      <td>AFPBDF</td>\n",
       "      <td>AFPBDAF</td>\n",
       "      <td>AFPBDC</td>\n",
       "      <td>AFPBFAF</td>\n",
       "      <td>AFPBFC</td>\n",
       "      <td>AFPBAFC</td>\n",
       "    </tr>\n",
       "    <tr>\n",
       "      <th>1</th>\n",
       "      <td>FOGBC</td>\n",
       "      <td>FOGBA</td>\n",
       "      <td>FOGB0</td>\n",
       "      <td>FOGBNA</td>\n",
       "      <td>FOGB1</td>\n",
       "      <td>FOGB5</td>\n",
       "      <td>FOGB4</td>\n",
       "      <td>FOGBC</td>\n",
       "      <td>FOGBE</td>\n",
       "      <td>FOGBDI</td>\n",
       "      <td>...</td>\n",
       "      <td>FOGCD</td>\n",
       "      <td>FOGCF</td>\n",
       "      <td>FOGCI</td>\n",
       "      <td>FOGCA</td>\n",
       "      <td>FOGDF</td>\n",
       "      <td>FOGDI</td>\n",
       "      <td>FOGDA</td>\n",
       "      <td>FOGFI</td>\n",
       "      <td>FOGFA</td>\n",
       "      <td>FOGIA</td>\n",
       "    </tr>\n",
       "    <tr>\n",
       "      <th>2</th>\n",
       "      <td>HXZAI</td>\n",
       "      <td>HXZAA</td>\n",
       "      <td>HXZA0</td>\n",
       "      <td>HXZAAJ</td>\n",
       "      <td>HXZA1</td>\n",
       "      <td>HXZA1</td>\n",
       "      <td>HXZA0</td>\n",
       "      <td>HXZAC</td>\n",
       "      <td>HXZAC</td>\n",
       "      <td>HXZADO</td>\n",
       "      <td>...</td>\n",
       "      <td>HXZCD</td>\n",
       "      <td>HXZCF</td>\n",
       "      <td>HXZCAV</td>\n",
       "      <td>HXZCA</td>\n",
       "      <td>HXZDF</td>\n",
       "      <td>HXZDAV</td>\n",
       "      <td>HXZDA</td>\n",
       "      <td>HXZFAV</td>\n",
       "      <td>HXZFA</td>\n",
       "      <td>HXZAVA</td>\n",
       "    </tr>\n",
       "    <tr>\n",
       "      <th>3</th>\n",
       "      <td>AGMUAI</td>\n",
       "      <td>AGMUAA</td>\n",
       "      <td>AGMUA0</td>\n",
       "      <td>AGMUAG</td>\n",
       "      <td>AGMUA1</td>\n",
       "      <td>AGMUA1</td>\n",
       "      <td>AGMUA0</td>\n",
       "      <td>AGMUAB</td>\n",
       "      <td>AGMUAC</td>\n",
       "      <td>AGMUACN</td>\n",
       "      <td>...</td>\n",
       "      <td>AGMUBD</td>\n",
       "      <td>AGMUBF</td>\n",
       "      <td>AGMUBB</td>\n",
       "      <td>AGMUBA</td>\n",
       "      <td>AGMUDF</td>\n",
       "      <td>AGMUDB</td>\n",
       "      <td>AGMUDA</td>\n",
       "      <td>AGMUFB</td>\n",
       "      <td>AGMUFA</td>\n",
       "      <td>AGMUBA</td>\n",
       "    </tr>\n",
       "    <tr>\n",
       "      <th>4</th>\n",
       "      <td>AWWAI</td>\n",
       "      <td>AWWAA</td>\n",
       "      <td>AWWA0</td>\n",
       "      <td>AWWAI</td>\n",
       "      <td>AWWA2</td>\n",
       "      <td>AWWA2</td>\n",
       "      <td>AWWA0</td>\n",
       "      <td>AWWAB</td>\n",
       "      <td>AWWAC</td>\n",
       "      <td>AWWANA</td>\n",
       "      <td>...</td>\n",
       "      <td>AWWBD</td>\n",
       "      <td>AWWBF</td>\n",
       "      <td>AWWBA</td>\n",
       "      <td>AWWBH</td>\n",
       "      <td>AWWDF</td>\n",
       "      <td>AWWDA</td>\n",
       "      <td>AWWDH</td>\n",
       "      <td>AWWFA</td>\n",
       "      <td>AWWFH</td>\n",
       "      <td>AWWAH</td>\n",
       "    </tr>\n",
       "  </tbody>\n",
       "</table>\n",
       "<p>5 rows × 190 columns</p>\n",
       "</div>"
      ]
     },
     "execution_count": 18,
     "metadata": {},
     "output_type": "execute_result"
    }
   ],
   "execution_count": 18
  },
  {
   "cell_type": "code",
   "id": "65551e87533721df",
   "metadata": {
    "ExecuteTime": {
     "end_time": "2024-12-03T16:25:11.537064Z",
     "start_time": "2024-12-03T16:25:10.998608Z"
    }
   },
   "source": [
    "train = pd.concat([train, train_c2, train_v22c2], axis=1)\n",
    "test = pd.concat([test, test_c2, test_v22c2], axis=1)"
   ],
   "outputs": [],
   "execution_count": 19
  },
  {
   "cell_type": "code",
   "id": "8f92bdbcc0f028e6",
   "metadata": {
    "ExecuteTime": {
     "end_time": "2024-12-03T16:25:11.829100Z",
     "start_time": "2024-12-03T16:25:11.572378Z"
    }
   },
   "source": [
    "del train_c2, train_v22c2, test_c2, test_v22c2\n",
    "gc.collect()"
   ],
   "outputs": [
    {
     "data": {
      "text/plain": [
       "10"
      ]
     },
     "execution_count": 20,
     "metadata": {},
     "output_type": "execute_result"
    }
   ],
   "execution_count": 20
  },
  {
   "cell_type": "markdown",
   "id": "a42ef7be6364f61b",
   "metadata": {},
   "source": [
    "# V22+C3"
   ]
  },
  {
   "cell_type": "code",
   "id": "256fe9c46072bb54",
   "metadata": {
    "ExecuteTime": {
     "end_time": "2024-12-03T16:25:11.874064Z",
     "start_time": "2024-12-03T16:25:11.870106Z"
    }
   },
   "source": [
    "cc3_no_v22 = list(combinations(catcol_without_v22, 3))\n",
    "v22_cc3 = list(product(['v22'], cc3_no_v22))\n",
    "len(v22_cc3)"
   ],
   "outputs": [
    {
     "data": {
      "text/plain": [
       "1140"
      ]
     },
     "execution_count": 21,
     "metadata": {},
     "output_type": "execute_result"
    }
   ],
   "execution_count": 21
  },
  {
   "cell_type": "code",
   "id": "d28ab7d998c09449",
   "metadata": {
    "ExecuteTime": {
     "end_time": "2024-12-03T16:25:22.867010Z",
     "start_time": "2024-12-03T16:25:11.903243Z"
    }
   },
   "source": [
    "column_names = [col[0] + '_' + col[1][0] + '_' + col[1][1] + '_' + col[1][2] for col in v22_cc3]\n",
    "train_cc3 = pd.concat([train[col[0]] + train[col[1][0]] + train[col[1][1]] + train[col[1][2]] for col in v22_cc3],\n",
    "                      axis=1, keys=column_names)\n",
    "train_cc3.shape"
   ],
   "outputs": [
    {
     "data": {
      "text/plain": [
       "(114321, 1140)"
      ]
     },
     "execution_count": 22,
     "metadata": {},
     "output_type": "execute_result"
    }
   ],
   "execution_count": 22
  },
  {
   "cell_type": "code",
   "id": "1ee08c4a613d86e6",
   "metadata": {
    "ExecuteTime": {
     "end_time": "2024-12-03T16:25:59.782588Z",
     "start_time": "2024-12-03T16:25:22.880157Z"
    }
   },
   "source": [
    "corr_list = calc_rel(train_cc3, y, train_cc3.columns.to_list())\n",
    "corr_df = pd.DataFrame(corr_list, columns=['feature', 'correlation'])"
   ],
   "outputs": [],
   "execution_count": 23
  },
  {
   "cell_type": "code",
   "id": "267172e4a1df8c6e",
   "metadata": {
    "ExecuteTime": {
     "end_time": "2024-12-03T16:25:59.811219Z",
     "start_time": "2024-12-03T16:25:59.796096Z"
    }
   },
   "source": [
    "p99_corr_train_cc3 = get_n_per_corr(corr_df, target_per=0.99)\n",
    "# p99_corr = corr_df"
   ],
   "outputs": [
    {
     "name": "stdout",
     "output_type": "stream",
     "text": [
      "1123 0.9905946819599096 (1124, 2)\n"
     ]
    }
   ],
   "execution_count": 24
  },
  {
   "cell_type": "code",
   "id": "3f0369412d109302",
   "metadata": {
    "ExecuteTime": {
     "end_time": "2024-12-03T16:26:03.186210Z",
     "start_time": "2024-12-03T16:25:59.824725Z"
    }
   },
   "source": [
    "train_cc3 = train_cc3[p99_corr_train_cc3['feature'].to_list()]\n",
    "train = pd.concat([train, train_cc3], axis=1)\n",
    "del train_cc3\n",
    "gc.collect()"
   ],
   "outputs": [
    {
     "data": {
      "text/plain": [
       "0"
      ]
     },
     "execution_count": 25,
     "metadata": {},
     "output_type": "execute_result"
    }
   ],
   "execution_count": 25
  },
  {
   "cell_type": "code",
   "id": "715bb8f693481275",
   "metadata": {
    "ExecuteTime": {
     "end_time": "2024-12-03T16:26:17.431876Z",
     "start_time": "2024-12-03T16:26:03.197213Z"
    }
   },
   "source": [
    "test_cc3 = pd.concat([test[col[0]] + test[col[1][0]] + test[col[1][1]] + test[col[1][2]] for col in v22_cc3],\n",
    "                      axis=1, keys=column_names)\n",
    "test_cc3 = test_cc3[p99_corr_train_cc3['feature'].to_list()]\n",
    "test = pd.concat([test, test_cc3], axis=1)\n",
    "del test_cc3\n",
    "gc.collect()"
   ],
   "outputs": [
    {
     "data": {
      "text/plain": [
       "0"
      ]
     },
     "execution_count": 26,
     "metadata": {},
     "output_type": "execute_result"
    }
   ],
   "execution_count": 26
  },
  {
   "cell_type": "markdown",
   "id": "319c09f88f662ef0",
   "metadata": {},
   "source": [
    "# deal comb with num features"
   ]
  },
  {
   "cell_type": "code",
   "id": "4c6a02c93de80b3c",
   "metadata": {
    "ExecuteTime": {
     "end_time": "2024-12-03T16:26:17.455388Z",
     "start_time": "2024-12-03T16:26:17.452878Z"
    }
   },
   "source": [],
   "outputs": [],
   "execution_count": null
  },
  {
   "cell_type": "code",
   "id": "ece66be7c3563699",
   "metadata": {
    "ExecuteTime": {
     "end_time": "2024-12-03T16:26:17.862346Z",
     "start_time": "2024-12-03T16:26:17.462392Z"
    }
   },
   "source": [
    "#2-way combination for num feat\n",
    "n2 = list(combinations(sorted_num_list, 2))\n",
    "names_cs = [c[1] + c[0] for c in n2]\n",
    "train_n2 = pd.concat([train[c[1]] + train[c[0]] for c in n2], axis=1, keys=names_cs)\n",
    "test_n2 = pd.concat([test[c[1]] + test[c[0]] for c in n2], axis=1, keys=names_cs)"
   ],
   "outputs": [],
   "execution_count": 27
  },
  {
   "cell_type": "code",
   "id": "f4220cab6724f29d",
   "metadata": {
    "ExecuteTime": {
     "end_time": "2024-12-03T16:26:17.880559Z",
     "start_time": "2024-12-03T16:26:17.879267Z"
    }
   },
   "source": [],
   "outputs": [],
   "execution_count": null
  },
  {
   "cell_type": "code",
   "id": "96125343e191275b",
   "metadata": {
    "ExecuteTime": {
     "end_time": "2024-12-03T16:26:18.335996Z",
     "start_time": "2024-12-03T16:26:17.895647Z"
    }
   },
   "source": [
    "#v22 + c2\n",
    "numcol_without_v50 = [i for i in sorted_num_list if i != 'v50']\n",
    "\n",
    "# First generate combination part without v22, then generate a new pair combine with v22\n",
    "nc2_no_v50 = list(combinations(numcol_without_v50, 2))\n",
    "v50_nc2 = list(product(['v50'], nc2_no_v50))\n",
    "column_names = [c[0] + '_' + c[1][0] + '_' + c[1][1] for c in v50_nc2]\n",
    "\n",
    "train_v50n2 = pd.concat([train[c[0]] + train[c[1][0]] + train[c[1][1]] for c in v50_nc2], axis=1, keys=column_names)\n",
    "train_v50n2.head()\n",
    "\n",
    "test_v50n2 = pd.concat([test[c[0]] + test[c[1][0]] + test[c[1][1]] for c in v50_nc2], axis=1, keys=column_names)\n",
    "test_v50n2.head()"
   ],
   "outputs": [
    {
     "data": {
      "text/plain": [
       "   v50_v10_v14  v50_v10_v34  v50_v10_v114  v50_v10_v21  v50_v10_v4  \\\n",
       "0        13.66         6.66         13.68         8.87        5.63   \n",
       "1        13.08        10.71         18.60         8.22     -996.68   \n",
       "2        15.73        10.38         18.04        10.67        6.96   \n",
       "3        12.93         8.75         16.23         8.07        4.19   \n",
       "4        13.89         8.02         15.94         9.28        7.18   \n",
       "\n",
       "   v50_v10_v119  v50_v10_v123  v50_v10_v48  v50_v10_v12  v50_v10_v106  ...  \\\n",
       "0          1.43          3.25        14.20         8.39         13.12  ...   \n",
       "1       -996.68       -996.68      -996.68         8.94       -996.68  ...   \n",
       "2          2.42          4.39        15.19         9.31         14.17  ...   \n",
       "3         20.77         10.69        19.32         9.39          8.49  ...   \n",
       "4          3.20          3.87        13.12         8.81         17.21  ...   \n",
       "\n",
       "   v50_v121_v88  v50_v121_v36  v50_v121_v111  v50_v121_v65  v50_v88_v36  \\\n",
       "0          5.17         15.57           6.96         19.00        14.08   \n",
       "1      -1996.97      -1996.97       -1996.97      -1996.97     -1996.97   \n",
       "2          9.05         15.54           6.46         19.12        18.75   \n",
       "3          5.53         18.84           9.03         17.47        15.12   \n",
       "4          5.40         13.98           5.00         20.66        14.53   \n",
       "\n",
       "   v50_v88_v111  v50_v88_v65  v50_v36_v111  v50_v36_v65  v50_v111_v65  \n",
       "0          5.47        17.51         15.87        27.91         19.30  \n",
       "1      -1996.97     -1996.97      -1996.97     -1996.97      -1996.97  \n",
       "2          9.67        22.33         16.16        28.82         19.74  \n",
       "3          5.31        13.75         18.62        27.06         17.25  \n",
       "4          5.55        21.21         14.13        29.79         20.81  \n",
       "\n",
       "[5 rows x 406 columns]"
      ],
      "text/html": [
       "<div>\n",
       "<style scoped>\n",
       "    .dataframe tbody tr th:only-of-type {\n",
       "        vertical-align: middle;\n",
       "    }\n",
       "\n",
       "    .dataframe tbody tr th {\n",
       "        vertical-align: top;\n",
       "    }\n",
       "\n",
       "    .dataframe thead th {\n",
       "        text-align: right;\n",
       "    }\n",
       "</style>\n",
       "<table border=\"1\" class=\"dataframe\">\n",
       "  <thead>\n",
       "    <tr style=\"text-align: right;\">\n",
       "      <th></th>\n",
       "      <th>v50_v10_v14</th>\n",
       "      <th>v50_v10_v34</th>\n",
       "      <th>v50_v10_v114</th>\n",
       "      <th>v50_v10_v21</th>\n",
       "      <th>v50_v10_v4</th>\n",
       "      <th>v50_v10_v119</th>\n",
       "      <th>v50_v10_v123</th>\n",
       "      <th>v50_v10_v48</th>\n",
       "      <th>v50_v10_v12</th>\n",
       "      <th>v50_v10_v106</th>\n",
       "      <th>...</th>\n",
       "      <th>v50_v121_v88</th>\n",
       "      <th>v50_v121_v36</th>\n",
       "      <th>v50_v121_v111</th>\n",
       "      <th>v50_v121_v65</th>\n",
       "      <th>v50_v88_v36</th>\n",
       "      <th>v50_v88_v111</th>\n",
       "      <th>v50_v88_v65</th>\n",
       "      <th>v50_v36_v111</th>\n",
       "      <th>v50_v36_v65</th>\n",
       "      <th>v50_v111_v65</th>\n",
       "    </tr>\n",
       "  </thead>\n",
       "  <tbody>\n",
       "    <tr>\n",
       "      <th>0</th>\n",
       "      <td>13.66</td>\n",
       "      <td>6.66</td>\n",
       "      <td>13.68</td>\n",
       "      <td>8.87</td>\n",
       "      <td>5.63</td>\n",
       "      <td>1.43</td>\n",
       "      <td>3.25</td>\n",
       "      <td>14.20</td>\n",
       "      <td>8.39</td>\n",
       "      <td>13.12</td>\n",
       "      <td>...</td>\n",
       "      <td>5.17</td>\n",
       "      <td>15.57</td>\n",
       "      <td>6.96</td>\n",
       "      <td>19.00</td>\n",
       "      <td>14.08</td>\n",
       "      <td>5.47</td>\n",
       "      <td>17.51</td>\n",
       "      <td>15.87</td>\n",
       "      <td>27.91</td>\n",
       "      <td>19.30</td>\n",
       "    </tr>\n",
       "    <tr>\n",
       "      <th>1</th>\n",
       "      <td>13.08</td>\n",
       "      <td>10.71</td>\n",
       "      <td>18.60</td>\n",
       "      <td>8.22</td>\n",
       "      <td>-996.68</td>\n",
       "      <td>-996.68</td>\n",
       "      <td>-996.68</td>\n",
       "      <td>-996.68</td>\n",
       "      <td>8.94</td>\n",
       "      <td>-996.68</td>\n",
       "      <td>...</td>\n",
       "      <td>-1996.97</td>\n",
       "      <td>-1996.97</td>\n",
       "      <td>-1996.97</td>\n",
       "      <td>-1996.97</td>\n",
       "      <td>-1996.97</td>\n",
       "      <td>-1996.97</td>\n",
       "      <td>-1996.97</td>\n",
       "      <td>-1996.97</td>\n",
       "      <td>-1996.97</td>\n",
       "      <td>-1996.97</td>\n",
       "    </tr>\n",
       "    <tr>\n",
       "      <th>2</th>\n",
       "      <td>15.73</td>\n",
       "      <td>10.38</td>\n",
       "      <td>18.04</td>\n",
       "      <td>10.67</td>\n",
       "      <td>6.96</td>\n",
       "      <td>2.42</td>\n",
       "      <td>4.39</td>\n",
       "      <td>15.19</td>\n",
       "      <td>9.31</td>\n",
       "      <td>14.17</td>\n",
       "      <td>...</td>\n",
       "      <td>9.05</td>\n",
       "      <td>15.54</td>\n",
       "      <td>6.46</td>\n",
       "      <td>19.12</td>\n",
       "      <td>18.75</td>\n",
       "      <td>9.67</td>\n",
       "      <td>22.33</td>\n",
       "      <td>16.16</td>\n",
       "      <td>28.82</td>\n",
       "      <td>19.74</td>\n",
       "    </tr>\n",
       "    <tr>\n",
       "      <th>3</th>\n",
       "      <td>12.93</td>\n",
       "      <td>8.75</td>\n",
       "      <td>16.23</td>\n",
       "      <td>8.07</td>\n",
       "      <td>4.19</td>\n",
       "      <td>20.77</td>\n",
       "      <td>10.69</td>\n",
       "      <td>19.32</td>\n",
       "      <td>9.39</td>\n",
       "      <td>8.49</td>\n",
       "      <td>...</td>\n",
       "      <td>5.53</td>\n",
       "      <td>18.84</td>\n",
       "      <td>9.03</td>\n",
       "      <td>17.47</td>\n",
       "      <td>15.12</td>\n",
       "      <td>5.31</td>\n",
       "      <td>13.75</td>\n",
       "      <td>18.62</td>\n",
       "      <td>27.06</td>\n",
       "      <td>17.25</td>\n",
       "    </tr>\n",
       "    <tr>\n",
       "      <th>4</th>\n",
       "      <td>13.89</td>\n",
       "      <td>8.02</td>\n",
       "      <td>15.94</td>\n",
       "      <td>9.28</td>\n",
       "      <td>7.18</td>\n",
       "      <td>3.20</td>\n",
       "      <td>3.87</td>\n",
       "      <td>13.12</td>\n",
       "      <td>8.81</td>\n",
       "      <td>17.21</td>\n",
       "      <td>...</td>\n",
       "      <td>5.40</td>\n",
       "      <td>13.98</td>\n",
       "      <td>5.00</td>\n",
       "      <td>20.66</td>\n",
       "      <td>14.53</td>\n",
       "      <td>5.55</td>\n",
       "      <td>21.21</td>\n",
       "      <td>14.13</td>\n",
       "      <td>29.79</td>\n",
       "      <td>20.81</td>\n",
       "    </tr>\n",
       "  </tbody>\n",
       "</table>\n",
       "<p>5 rows × 406 columns</p>\n",
       "</div>"
      ]
     },
     "execution_count": 28,
     "metadata": {},
     "output_type": "execute_result"
    }
   ],
   "execution_count": 28
  },
  {
   "cell_type": "code",
   "id": "af2dcccfedbba0e0",
   "metadata": {
    "ExecuteTime": {
     "end_time": "2024-12-03T16:26:18.398861Z",
     "start_time": "2024-12-03T16:26:18.396861Z"
    }
   },
   "source": [],
   "outputs": [],
   "execution_count": null
  },
  {
   "cell_type": "markdown",
   "id": "f1b7dee961596ae",
   "metadata": {},
   "source": []
  },
  {
   "cell_type": "markdown",
   "id": "898eed3c1a383d1c",
   "metadata": {},
   "source": []
  },
  {
   "cell_type": "code",
   "id": "571d2430bf96694c",
   "metadata": {
    "ExecuteTime": {
     "end_time": "2024-12-03T16:26:18.783133Z",
     "start_time": "2024-12-03T16:26:18.400864Z"
    }
   },
   "source": [
    "corr_list = calc_rel(train_v50n2, y, train_v50n2.columns.to_list())\n",
    "corr_df = pd.DataFrame(corr_list, columns=['feature', 'correlation'])"
   ],
   "outputs": [],
   "execution_count": 29
  },
  {
   "cell_type": "code",
   "id": "2a05e4065eea7173",
   "metadata": {
    "ExecuteTime": {
     "end_time": "2024-12-03T16:26:18.896634Z",
     "start_time": "2024-12-03T16:26:18.889740Z"
    }
   },
   "source": [
    "p99_corr_v50n2 = get_n_per_corr(corr_df, target_per=0.99)\n",
    "# p99_corr = corr_df"
   ],
   "outputs": [
    {
     "name": "stdout",
     "output_type": "stream",
     "text": [
      "393 0.9900523716723958 (394, 2)\n"
     ]
    }
   ],
   "execution_count": 30
  },
  {
   "cell_type": "code",
   "id": "ce874df2289c0f0a",
   "metadata": {
    "ExecuteTime": {
     "end_time": "2024-12-03T16:26:23.352326Z",
     "start_time": "2024-12-03T16:26:18.898638Z"
    }
   },
   "source": [
    "train_v50n2 = train_v50n2[p99_corr_v50n2['feature'].to_list()]\n",
    "train = pd.concat([train, train_n2, train_v50n2], axis=1)\n",
    "del train_n2, train_v50n2\n",
    "gc.collect()"
   ],
   "outputs": [
    {
     "data": {
      "text/plain": [
       "10"
      ]
     },
     "execution_count": 31,
     "metadata": {},
     "output_type": "execute_result"
    }
   ],
   "execution_count": 31
  },
  {
   "cell_type": "code",
   "id": "e3719af325e8af5f",
   "metadata": {
    "ExecuteTime": {
     "end_time": "2024-12-03T16:26:23.357677Z",
     "start_time": "2024-12-03T16:26:23.355331Z"
    }
   },
   "source": [
    "\n"
   ],
   "outputs": [],
   "execution_count": 31
  },
  {
   "cell_type": "markdown",
   "id": "565cf1bba1138f67",
   "metadata": {},
   "source": [
    "# v50+n2"
   ]
  },
  {
   "cell_type": "code",
   "id": "c0a2064a498898fd",
   "metadata": {
    "ExecuteTime": {
     "end_time": "2024-12-03T16:26:27.650254Z",
     "start_time": "2024-12-03T16:26:23.374680Z"
    }
   },
   "source": [
    "test_v50n2 = test_v50n2[p99_corr_v50n2['feature'].to_list()]\n",
    "test = pd.concat([test, test_n2, test_v50n2], axis=1)\n",
    "# test.shape"
   ],
   "outputs": [],
   "execution_count": 32
  },
  {
   "cell_type": "code",
   "id": "a60efa9028f2737b",
   "metadata": {
    "ExecuteTime": {
     "end_time": "2024-12-03T16:26:27.709760Z",
     "start_time": "2024-12-03T16:26:27.666257Z"
    }
   },
   "source": [
    "del test_n2, test_v50n2\n",
    "gc.collect()"
   ],
   "outputs": [
    {
     "data": {
      "text/plain": [
       "0"
      ]
     },
     "execution_count": 33,
     "metadata": {},
     "output_type": "execute_result"
    }
   ],
   "execution_count": 33
  },
  {
   "cell_type": "code",
   "id": "343348cc79a9781b",
   "metadata": {
    "ExecuteTime": {
     "end_time": "2024-12-03T16:26:27.724910Z",
     "start_time": "2024-12-03T16:26:27.721763Z"
    }
   },
   "source": [
    "assert(train.shape[1] == test.shape[1])\n",
    "for i in test.columns:\n",
    "    if i not in train.columns:\n",
    "        assert(True)"
   ],
   "outputs": [],
   "execution_count": 34
  },
  {
   "cell_type": "code",
   "id": "6627dca8161934eb",
   "metadata": {
    "ExecuteTime": {
     "end_time": "2024-12-03T16:26:29.526498Z",
     "start_time": "2024-12-03T16:26:27.749671Z"
    }
   },
   "source": [
    "cat_col = train.select_dtypes(exclude=['number']).columns.values\n",
    "num_col = train.select_dtypes(include=['number']).columns.values\n",
    "cols = train.columns.to_list()"
   ],
   "outputs": [],
   "execution_count": 35
  },
  {
   "cell_type": "code",
   "id": "35368b6b-7fa3-4957-9815-e85a2bc5161e",
   "metadata": {
    "ExecuteTime": {
     "end_time": "2024-12-03T16:26:29.530484Z",
     "start_time": "2024-12-03T16:26:29.528503Z"
    }
   },
   "source": [],
   "outputs": [],
   "execution_count": null
  },
  {
   "cell_type": "markdown",
   "id": "1f2eb2ed81b49524",
   "metadata": {},
   "source": [
    "# a list for removing useless features"
   ]
  },
  {
   "cell_type": "code",
   "id": "5fa7f6a9c60a3fbe",
   "metadata": {
    "ExecuteTime": {
     "end_time": "2024-12-03T16:26:29.544642Z",
     "start_time": "2024-12-03T16:26:29.542369Z"
    }
   },
   "source": [
    "# featimp_df = pd.read_csv(\"featimp_20241012_1720_8gpu_num2cat_num999_longparam.csv\")\n",
    "# featimp_df = featimp_df.sort_values(by=['importance'],ascending=False)\n",
    "# important_features = featimp_df['feature'].to_list()\n",
    "# cols = [i for i in train.columns if i in important_features]\n",
    "# cols_cat = [i for i in cat_col if i in important_features]\n",
    "# cols = [i for i in train.columns if i in important_features]\n",
    "# cat_col = [i for i in cat_col if i in important_features]\n"
   ],
   "outputs": [],
   "execution_count": 36
  },
  {
   "cell_type": "code",
   "id": "678e2d7aea55d712",
   "metadata": {
    "ExecuteTime": {
     "end_time": "2024-12-03T16:26:29.559112Z",
     "start_time": "2024-12-03T16:26:29.556804Z"
    }
   },
   "source": [
    "\n",
    "# train = train[cols] #not necessary\n",
    "# test = test[cols] #not necessary\n",
    "# train_data = cat.Pool(train, label=y,cat_features=cat_col)\n",
    "# test_data = cat.Pool(test,cat_features=cat_col)\n",
    "\n",
    "\n"
   ],
   "outputs": [],
   "execution_count": 37
  },
  {
   "cell_type": "code",
   "id": "9ff1c02710263b1b",
   "metadata": {
    "ExecuteTime": {
     "end_time": "2024-12-03T16:26:29.574623Z",
     "start_time": "2024-12-03T16:26:29.572116Z"
    }
   },
   "source": [
    "params = {\n",
    "    \"loss_function\": \"Logloss\",\n",
    "    \"eval_metric\": \"Logloss\",\n",
    "    \"learning_rate\": 0.02,\n",
    "    \"iterations\": 2800,\n",
    "    # \"l2_leaf_reg\": 3,\n",
    "    # \"random_seed\": 432013,\n",
    "    # \"subsample\": 0.66,\n",
    "    # \"od_type\": \"Iter\",\n",
    "    # \"rsm\": 0.2,\n",
    "    \"depth\": 6,\n",
    "    # \"border_count\": 128,\n",
    "    \"task_type\": \"GPU\",\n",
    "    \"cat_features\":cat_col,\n",
    "    \"verbose\":100\n",
    "}"
   ],
   "outputs": [],
   "execution_count": 38
  },
  {
   "cell_type": "code",
   "id": "1d0590fc-802a-43be-9994-8ae82cdced3b",
   "metadata": {
    "ExecuteTime": {
     "end_time": "2024-12-03T17:37:25.301414Z",
     "start_time": "2024-12-03T16:26:29.586648Z"
    }
   },
   "source": [
    "model = cat.CatBoostClassifier(**params)\n",
    "fit_model = model.fit(train,y,verbose=100)"
   ],
   "outputs": [
    {
     "name": "stdout",
     "output_type": "stream",
     "text": [
      "0:\tlearn: 0.6836150\ttotal: 2.04s\tremaining: 1h 35m 10s\n",
      "100:\tlearn: 0.4705688\ttotal: 2m 34s\tremaining: 1h 8m 58s\n",
      "200:\tlearn: 0.4549213\ttotal: 4m 57s\tremaining: 1h 4m 12s\n",
      "300:\tlearn: 0.4494758\ttotal: 7m 21s\tremaining: 1h 1m 8s\n",
      "400:\tlearn: 0.4462807\ttotal: 9m 47s\tremaining: 58m 34s\n",
      "500:\tlearn: 0.4439359\ttotal: 12m 16s\tremaining: 56m 20s\n",
      "600:\tlearn: 0.4422005\ttotal: 14m 42s\tremaining: 53m 49s\n",
      "700:\tlearn: 0.4406861\ttotal: 17m 8s\tremaining: 51m 18s\n",
      "800:\tlearn: 0.4392553\ttotal: 19m 34s\tremaining: 48m 52s\n",
      "900:\tlearn: 0.4378327\ttotal: 21m 59s\tremaining: 46m 20s\n",
      "1000:\tlearn: 0.4365857\ttotal: 24m 19s\tremaining: 43m 43s\n",
      "1100:\tlearn: 0.4352196\ttotal: 26m 49s\tremaining: 41m 23s\n",
      "1200:\tlearn: 0.4339789\ttotal: 29m 17s\tremaining: 38m 59s\n",
      "1300:\tlearn: 0.4327748\ttotal: 31m 45s\tremaining: 36m 35s\n",
      "1400:\tlearn: 0.4315866\ttotal: 34m 19s\tremaining: 34m 16s\n",
      "1500:\tlearn: 0.4304853\ttotal: 36m 40s\tremaining: 31m 44s\n",
      "1600:\tlearn: 0.4294153\ttotal: 39m 3s\tremaining: 29m 14s\n",
      "1700:\tlearn: 0.4283003\ttotal: 41m 24s\tremaining: 26m 45s\n",
      "1800:\tlearn: 0.4272537\ttotal: 43m 48s\tremaining: 24m 17s\n",
      "1900:\tlearn: 0.4263086\ttotal: 46m 8s\tremaining: 21m 49s\n",
      "2000:\tlearn: 0.4251843\ttotal: 48m 32s\tremaining: 19m 23s\n",
      "2100:\tlearn: 0.4241495\ttotal: 50m 58s\tremaining: 16m 57s\n",
      "2200:\tlearn: 0.4231426\ttotal: 53m 22s\tremaining: 14m 31s\n",
      "2300:\tlearn: 0.4221267\ttotal: 55m 44s\tremaining: 12m 5s\n",
      "2400:\tlearn: 0.4210842\ttotal: 58m 5s\tremaining: 9m 39s\n",
      "2500:\tlearn: 0.4199980\ttotal: 1h 30s\tremaining: 7m 14s\n",
      "2600:\tlearn: 0.4189587\ttotal: 1h 2m 56s\tremaining: 4m 48s\n",
      "2700:\tlearn: 0.4180004\ttotal: 1h 5m 26s\tremaining: 2m 23s\n",
      "2799:\tlearn: 0.4170077\ttotal: 1h 7m 52s\tremaining: 0us\n"
     ]
    }
   ],
   "execution_count": 39
  },
  {
   "cell_type": "code",
   "id": "98b0477797e4c1f1",
   "metadata": {
    "ExecuteTime": {
     "end_time": "2024-12-03T17:37:25.366844Z",
     "start_time": "2024-12-03T17:37:25.362845Z"
    }
   },
   "source": [
    "ite_round = 0\n",
    "\n",
    "class CustomDataPreprocessor(BaseEstimator, TransformerMixin):\n",
    "    def __init__(self,**kwargs):\n",
    "        return\n",
    "\n",
    "    def fit(self, X, y=None, **kwargs):\n",
    "\n",
    "        # Perform necessary fitting operations\n",
    "        return self\n",
    "\n",
    "    def transform(self, X, y=None, **kwargs):\n",
    "        # Perform transformations on the data\n",
    "        global ite_round\n",
    "        ite_round += 1\n",
    "        print(f\"This is the {ite_round=:}\")\n",
    "        return X\n",
    "\n"
   ],
   "outputs": [],
   "execution_count": 40
  },
  {
   "cell_type": "code",
   "id": "fc9c2f9966b2abe3",
   "metadata": {
    "ExecuteTime": {
     "end_time": "2024-12-03T17:37:25.401285Z",
     "start_time": "2024-12-03T17:37:25.396333Z"
    }
   },
   "source": [
    "from sklearn.pipeline import Pipeline, make_pipeline\n",
    "\n",
    "param_grid_1 = {\n",
    "    \"catboostclassifier__iterations\": np.arange(2800,2900,100),\n",
    "    # \"catboostclassifier__learning_rate\": np.arange(0.01,0.05,0.01),\n",
    "    \"catboostclassifier__depth\": np.arange(6,7,1)\n",
    "    }\n",
    "\n",
    "def pipeforcat():\n",
    "    return make_pipeline(CustomDataPreprocessor(),cat.CatBoostClassifier(**params))"
   ],
   "outputs": [],
   "execution_count": 41
  },
  {
   "cell_type": "code",
   "id": "427e55b8ce2d734a",
   "metadata": {
    "ExecuteTime": {
     "end_time": "2024-12-03T17:37:25.408693Z",
     "start_time": "2024-12-03T17:37:25.403290Z"
    }
   },
   "source": [
    "piped = pipeforcat()\n",
    "piped"
   ],
   "outputs": [
    {
     "data": {
      "text/plain": [
       "Pipeline(steps=[('customdatapreprocessor', CustomDataPreprocessor()),\n",
       "                ('catboostclassifier',\n",
       "                 <catboost.core.CatBoostClassifier object at 0x000001CAC0639B50>)])"
      ],
      "text/html": [
       "<style>#sk-container-id-1 {\n",
       "  /* Definition of color scheme common for light and dark mode */\n",
       "  --sklearn-color-text: black;\n",
       "  --sklearn-color-line: gray;\n",
       "  /* Definition of color scheme for unfitted estimators */\n",
       "  --sklearn-color-unfitted-level-0: #fff5e6;\n",
       "  --sklearn-color-unfitted-level-1: #f6e4d2;\n",
       "  --sklearn-color-unfitted-level-2: #ffe0b3;\n",
       "  --sklearn-color-unfitted-level-3: chocolate;\n",
       "  /* Definition of color scheme for fitted estimators */\n",
       "  --sklearn-color-fitted-level-0: #f0f8ff;\n",
       "  --sklearn-color-fitted-level-1: #d4ebff;\n",
       "  --sklearn-color-fitted-level-2: #b3dbfd;\n",
       "  --sklearn-color-fitted-level-3: cornflowerblue;\n",
       "\n",
       "  /* Specific color for light theme */\n",
       "  --sklearn-color-text-on-default-background: var(--sg-text-color, var(--theme-code-foreground, var(--jp-content-font-color1, black)));\n",
       "  --sklearn-color-background: var(--sg-background-color, var(--theme-background, var(--jp-layout-color0, white)));\n",
       "  --sklearn-color-border-box: var(--sg-text-color, var(--theme-code-foreground, var(--jp-content-font-color1, black)));\n",
       "  --sklearn-color-icon: #696969;\n",
       "\n",
       "  @media (prefers-color-scheme: dark) {\n",
       "    /* Redefinition of color scheme for dark theme */\n",
       "    --sklearn-color-text-on-default-background: var(--sg-text-color, var(--theme-code-foreground, var(--jp-content-font-color1, white)));\n",
       "    --sklearn-color-background: var(--sg-background-color, var(--theme-background, var(--jp-layout-color0, #111)));\n",
       "    --sklearn-color-border-box: var(--sg-text-color, var(--theme-code-foreground, var(--jp-content-font-color1, white)));\n",
       "    --sklearn-color-icon: #878787;\n",
       "  }\n",
       "}\n",
       "\n",
       "#sk-container-id-1 {\n",
       "  color: var(--sklearn-color-text);\n",
       "}\n",
       "\n",
       "#sk-container-id-1 pre {\n",
       "  padding: 0;\n",
       "}\n",
       "\n",
       "#sk-container-id-1 input.sk-hidden--visually {\n",
       "  border: 0;\n",
       "  clip: rect(1px 1px 1px 1px);\n",
       "  clip: rect(1px, 1px, 1px, 1px);\n",
       "  height: 1px;\n",
       "  margin: -1px;\n",
       "  overflow: hidden;\n",
       "  padding: 0;\n",
       "  position: absolute;\n",
       "  width: 1px;\n",
       "}\n",
       "\n",
       "#sk-container-id-1 div.sk-dashed-wrapped {\n",
       "  border: 1px dashed var(--sklearn-color-line);\n",
       "  margin: 0 0.4em 0.5em 0.4em;\n",
       "  box-sizing: border-box;\n",
       "  padding-bottom: 0.4em;\n",
       "  background-color: var(--sklearn-color-background);\n",
       "}\n",
       "\n",
       "#sk-container-id-1 div.sk-container {\n",
       "  /* jupyter's `normalize.less` sets `[hidden] { display: none; }`\n",
       "     but bootstrap.min.css set `[hidden] { display: none !important; }`\n",
       "     so we also need the `!important` here to be able to override the\n",
       "     default hidden behavior on the sphinx rendered scikit-learn.org.\n",
       "     See: https://github.com/scikit-learn/scikit-learn/issues/21755 */\n",
       "  display: inline-block !important;\n",
       "  position: relative;\n",
       "}\n",
       "\n",
       "#sk-container-id-1 div.sk-text-repr-fallback {\n",
       "  display: none;\n",
       "}\n",
       "\n",
       "div.sk-parallel-item,\n",
       "div.sk-serial,\n",
       "div.sk-item {\n",
       "  /* draw centered vertical line to link estimators */\n",
       "  background-image: linear-gradient(var(--sklearn-color-text-on-default-background), var(--sklearn-color-text-on-default-background));\n",
       "  background-size: 2px 100%;\n",
       "  background-repeat: no-repeat;\n",
       "  background-position: center center;\n",
       "}\n",
       "\n",
       "/* Parallel-specific style estimator block */\n",
       "\n",
       "#sk-container-id-1 div.sk-parallel-item::after {\n",
       "  content: \"\";\n",
       "  width: 100%;\n",
       "  border-bottom: 2px solid var(--sklearn-color-text-on-default-background);\n",
       "  flex-grow: 1;\n",
       "}\n",
       "\n",
       "#sk-container-id-1 div.sk-parallel {\n",
       "  display: flex;\n",
       "  align-items: stretch;\n",
       "  justify-content: center;\n",
       "  background-color: var(--sklearn-color-background);\n",
       "  position: relative;\n",
       "}\n",
       "\n",
       "#sk-container-id-1 div.sk-parallel-item {\n",
       "  display: flex;\n",
       "  flex-direction: column;\n",
       "}\n",
       "\n",
       "#sk-container-id-1 div.sk-parallel-item:first-child::after {\n",
       "  align-self: flex-end;\n",
       "  width: 50%;\n",
       "}\n",
       "\n",
       "#sk-container-id-1 div.sk-parallel-item:last-child::after {\n",
       "  align-self: flex-start;\n",
       "  width: 50%;\n",
       "}\n",
       "\n",
       "#sk-container-id-1 div.sk-parallel-item:only-child::after {\n",
       "  width: 0;\n",
       "}\n",
       "\n",
       "/* Serial-specific style estimator block */\n",
       "\n",
       "#sk-container-id-1 div.sk-serial {\n",
       "  display: flex;\n",
       "  flex-direction: column;\n",
       "  align-items: center;\n",
       "  background-color: var(--sklearn-color-background);\n",
       "  padding-right: 1em;\n",
       "  padding-left: 1em;\n",
       "}\n",
       "\n",
       "\n",
       "/* Toggleable style: style used for estimator/Pipeline/ColumnTransformer box that is\n",
       "clickable and can be expanded/collapsed.\n",
       "- Pipeline and ColumnTransformer use this feature and define the default style\n",
       "- Estimators will overwrite some part of the style using the `sk-estimator` class\n",
       "*/\n",
       "\n",
       "/* Pipeline and ColumnTransformer style (default) */\n",
       "\n",
       "#sk-container-id-1 div.sk-toggleable {\n",
       "  /* Default theme specific background. It is overwritten whether we have a\n",
       "  specific estimator or a Pipeline/ColumnTransformer */\n",
       "  background-color: var(--sklearn-color-background);\n",
       "}\n",
       "\n",
       "/* Toggleable label */\n",
       "#sk-container-id-1 label.sk-toggleable__label {\n",
       "  cursor: pointer;\n",
       "  display: block;\n",
       "  width: 100%;\n",
       "  margin-bottom: 0;\n",
       "  padding: 0.5em;\n",
       "  box-sizing: border-box;\n",
       "  text-align: center;\n",
       "}\n",
       "\n",
       "#sk-container-id-1 label.sk-toggleable__label-arrow:before {\n",
       "  /* Arrow on the left of the label */\n",
       "  content: \"▸\";\n",
       "  float: left;\n",
       "  margin-right: 0.25em;\n",
       "  color: var(--sklearn-color-icon);\n",
       "}\n",
       "\n",
       "#sk-container-id-1 label.sk-toggleable__label-arrow:hover:before {\n",
       "  color: var(--sklearn-color-text);\n",
       "}\n",
       "\n",
       "/* Toggleable content - dropdown */\n",
       "\n",
       "#sk-container-id-1 div.sk-toggleable__content {\n",
       "  max-height: 0;\n",
       "  max-width: 0;\n",
       "  overflow: hidden;\n",
       "  text-align: left;\n",
       "  /* unfitted */\n",
       "  background-color: var(--sklearn-color-unfitted-level-0);\n",
       "}\n",
       "\n",
       "#sk-container-id-1 div.sk-toggleable__content.fitted {\n",
       "  /* fitted */\n",
       "  background-color: var(--sklearn-color-fitted-level-0);\n",
       "}\n",
       "\n",
       "#sk-container-id-1 div.sk-toggleable__content pre {\n",
       "  margin: 0.2em;\n",
       "  border-radius: 0.25em;\n",
       "  color: var(--sklearn-color-text);\n",
       "  /* unfitted */\n",
       "  background-color: var(--sklearn-color-unfitted-level-0);\n",
       "}\n",
       "\n",
       "#sk-container-id-1 div.sk-toggleable__content.fitted pre {\n",
       "  /* unfitted */\n",
       "  background-color: var(--sklearn-color-fitted-level-0);\n",
       "}\n",
       "\n",
       "#sk-container-id-1 input.sk-toggleable__control:checked~div.sk-toggleable__content {\n",
       "  /* Expand drop-down */\n",
       "  max-height: 200px;\n",
       "  max-width: 100%;\n",
       "  overflow: auto;\n",
       "}\n",
       "\n",
       "#sk-container-id-1 input.sk-toggleable__control:checked~label.sk-toggleable__label-arrow:before {\n",
       "  content: \"▾\";\n",
       "}\n",
       "\n",
       "/* Pipeline/ColumnTransformer-specific style */\n",
       "\n",
       "#sk-container-id-1 div.sk-label input.sk-toggleable__control:checked~label.sk-toggleable__label {\n",
       "  color: var(--sklearn-color-text);\n",
       "  background-color: var(--sklearn-color-unfitted-level-2);\n",
       "}\n",
       "\n",
       "#sk-container-id-1 div.sk-label.fitted input.sk-toggleable__control:checked~label.sk-toggleable__label {\n",
       "  background-color: var(--sklearn-color-fitted-level-2);\n",
       "}\n",
       "\n",
       "/* Estimator-specific style */\n",
       "\n",
       "/* Colorize estimator box */\n",
       "#sk-container-id-1 div.sk-estimator input.sk-toggleable__control:checked~label.sk-toggleable__label {\n",
       "  /* unfitted */\n",
       "  background-color: var(--sklearn-color-unfitted-level-2);\n",
       "}\n",
       "\n",
       "#sk-container-id-1 div.sk-estimator.fitted input.sk-toggleable__control:checked~label.sk-toggleable__label {\n",
       "  /* fitted */\n",
       "  background-color: var(--sklearn-color-fitted-level-2);\n",
       "}\n",
       "\n",
       "#sk-container-id-1 div.sk-label label.sk-toggleable__label,\n",
       "#sk-container-id-1 div.sk-label label {\n",
       "  /* The background is the default theme color */\n",
       "  color: var(--sklearn-color-text-on-default-background);\n",
       "}\n",
       "\n",
       "/* On hover, darken the color of the background */\n",
       "#sk-container-id-1 div.sk-label:hover label.sk-toggleable__label {\n",
       "  color: var(--sklearn-color-text);\n",
       "  background-color: var(--sklearn-color-unfitted-level-2);\n",
       "}\n",
       "\n",
       "/* Label box, darken color on hover, fitted */\n",
       "#sk-container-id-1 div.sk-label.fitted:hover label.sk-toggleable__label.fitted {\n",
       "  color: var(--sklearn-color-text);\n",
       "  background-color: var(--sklearn-color-fitted-level-2);\n",
       "}\n",
       "\n",
       "/* Estimator label */\n",
       "\n",
       "#sk-container-id-1 div.sk-label label {\n",
       "  font-family: monospace;\n",
       "  font-weight: bold;\n",
       "  display: inline-block;\n",
       "  line-height: 1.2em;\n",
       "}\n",
       "\n",
       "#sk-container-id-1 div.sk-label-container {\n",
       "  text-align: center;\n",
       "}\n",
       "\n",
       "/* Estimator-specific */\n",
       "#sk-container-id-1 div.sk-estimator {\n",
       "  font-family: monospace;\n",
       "  border: 1px dotted var(--sklearn-color-border-box);\n",
       "  border-radius: 0.25em;\n",
       "  box-sizing: border-box;\n",
       "  margin-bottom: 0.5em;\n",
       "  /* unfitted */\n",
       "  background-color: var(--sklearn-color-unfitted-level-0);\n",
       "}\n",
       "\n",
       "#sk-container-id-1 div.sk-estimator.fitted {\n",
       "  /* fitted */\n",
       "  background-color: var(--sklearn-color-fitted-level-0);\n",
       "}\n",
       "\n",
       "/* on hover */\n",
       "#sk-container-id-1 div.sk-estimator:hover {\n",
       "  /* unfitted */\n",
       "  background-color: var(--sklearn-color-unfitted-level-2);\n",
       "}\n",
       "\n",
       "#sk-container-id-1 div.sk-estimator.fitted:hover {\n",
       "  /* fitted */\n",
       "  background-color: var(--sklearn-color-fitted-level-2);\n",
       "}\n",
       "\n",
       "/* Specification for estimator info (e.g. \"i\" and \"?\") */\n",
       "\n",
       "/* Common style for \"i\" and \"?\" */\n",
       "\n",
       ".sk-estimator-doc-link,\n",
       "a:link.sk-estimator-doc-link,\n",
       "a:visited.sk-estimator-doc-link {\n",
       "  float: right;\n",
       "  font-size: smaller;\n",
       "  line-height: 1em;\n",
       "  font-family: monospace;\n",
       "  background-color: var(--sklearn-color-background);\n",
       "  border-radius: 1em;\n",
       "  height: 1em;\n",
       "  width: 1em;\n",
       "  text-decoration: none !important;\n",
       "  margin-left: 1ex;\n",
       "  /* unfitted */\n",
       "  border: var(--sklearn-color-unfitted-level-1) 1pt solid;\n",
       "  color: var(--sklearn-color-unfitted-level-1);\n",
       "}\n",
       "\n",
       ".sk-estimator-doc-link.fitted,\n",
       "a:link.sk-estimator-doc-link.fitted,\n",
       "a:visited.sk-estimator-doc-link.fitted {\n",
       "  /* fitted */\n",
       "  border: var(--sklearn-color-fitted-level-1) 1pt solid;\n",
       "  color: var(--sklearn-color-fitted-level-1);\n",
       "}\n",
       "\n",
       "/* On hover */\n",
       "div.sk-estimator:hover .sk-estimator-doc-link:hover,\n",
       ".sk-estimator-doc-link:hover,\n",
       "div.sk-label-container:hover .sk-estimator-doc-link:hover,\n",
       ".sk-estimator-doc-link:hover {\n",
       "  /* unfitted */\n",
       "  background-color: var(--sklearn-color-unfitted-level-3);\n",
       "  color: var(--sklearn-color-background);\n",
       "  text-decoration: none;\n",
       "}\n",
       "\n",
       "div.sk-estimator.fitted:hover .sk-estimator-doc-link.fitted:hover,\n",
       ".sk-estimator-doc-link.fitted:hover,\n",
       "div.sk-label-container:hover .sk-estimator-doc-link.fitted:hover,\n",
       ".sk-estimator-doc-link.fitted:hover {\n",
       "  /* fitted */\n",
       "  background-color: var(--sklearn-color-fitted-level-3);\n",
       "  color: var(--sklearn-color-background);\n",
       "  text-decoration: none;\n",
       "}\n",
       "\n",
       "/* Span, style for the box shown on hovering the info icon */\n",
       ".sk-estimator-doc-link span {\n",
       "  display: none;\n",
       "  z-index: 9999;\n",
       "  position: relative;\n",
       "  font-weight: normal;\n",
       "  right: .2ex;\n",
       "  padding: .5ex;\n",
       "  margin: .5ex;\n",
       "  width: min-content;\n",
       "  min-width: 20ex;\n",
       "  max-width: 50ex;\n",
       "  color: var(--sklearn-color-text);\n",
       "  box-shadow: 2pt 2pt 4pt #999;\n",
       "  /* unfitted */\n",
       "  background: var(--sklearn-color-unfitted-level-0);\n",
       "  border: .5pt solid var(--sklearn-color-unfitted-level-3);\n",
       "}\n",
       "\n",
       ".sk-estimator-doc-link.fitted span {\n",
       "  /* fitted */\n",
       "  background: var(--sklearn-color-fitted-level-0);\n",
       "  border: var(--sklearn-color-fitted-level-3);\n",
       "}\n",
       "\n",
       ".sk-estimator-doc-link:hover span {\n",
       "  display: block;\n",
       "}\n",
       "\n",
       "/* \"?\"-specific style due to the `<a>` HTML tag */\n",
       "\n",
       "#sk-container-id-1 a.estimator_doc_link {\n",
       "  float: right;\n",
       "  font-size: 1rem;\n",
       "  line-height: 1em;\n",
       "  font-family: monospace;\n",
       "  background-color: var(--sklearn-color-background);\n",
       "  border-radius: 1rem;\n",
       "  height: 1rem;\n",
       "  width: 1rem;\n",
       "  text-decoration: none;\n",
       "  /* unfitted */\n",
       "  color: var(--sklearn-color-unfitted-level-1);\n",
       "  border: var(--sklearn-color-unfitted-level-1) 1pt solid;\n",
       "}\n",
       "\n",
       "#sk-container-id-1 a.estimator_doc_link.fitted {\n",
       "  /* fitted */\n",
       "  border: var(--sklearn-color-fitted-level-1) 1pt solid;\n",
       "  color: var(--sklearn-color-fitted-level-1);\n",
       "}\n",
       "\n",
       "/* On hover */\n",
       "#sk-container-id-1 a.estimator_doc_link:hover {\n",
       "  /* unfitted */\n",
       "  background-color: var(--sklearn-color-unfitted-level-3);\n",
       "  color: var(--sklearn-color-background);\n",
       "  text-decoration: none;\n",
       "}\n",
       "\n",
       "#sk-container-id-1 a.estimator_doc_link.fitted:hover {\n",
       "  /* fitted */\n",
       "  background-color: var(--sklearn-color-fitted-level-3);\n",
       "}\n",
       "</style><div id=\"sk-container-id-1\" class=\"sk-top-container\"><div class=\"sk-text-repr-fallback\"><pre>Pipeline(steps=[(&#x27;customdatapreprocessor&#x27;, CustomDataPreprocessor()),\n",
       "                (&#x27;catboostclassifier&#x27;,\n",
       "                 &lt;catboost.core.CatBoostClassifier object at 0x000001CAC0639B50&gt;)])</pre><b>In a Jupyter environment, please rerun this cell to show the HTML representation or trust the notebook. <br />On GitHub, the HTML representation is unable to render, please try loading this page with nbviewer.org.</b></div><div class=\"sk-container\" hidden><div class=\"sk-item sk-dashed-wrapped\"><div class=\"sk-label-container\"><div class=\"sk-label  sk-toggleable\"><input class=\"sk-toggleable__control sk-hidden--visually\" id=\"sk-estimator-id-1\" type=\"checkbox\" ><label for=\"sk-estimator-id-1\" class=\"sk-toggleable__label  sk-toggleable__label-arrow \">&nbsp;&nbsp;Pipeline<a class=\"sk-estimator-doc-link \" rel=\"noreferrer\" target=\"_blank\" href=\"https://scikit-learn.org/1.5/modules/generated/sklearn.pipeline.Pipeline.html\">?<span>Documentation for Pipeline</span></a><span class=\"sk-estimator-doc-link \">i<span>Not fitted</span></span></label><div class=\"sk-toggleable__content \"><pre>Pipeline(steps=[(&#x27;customdatapreprocessor&#x27;, CustomDataPreprocessor()),\n",
       "                (&#x27;catboostclassifier&#x27;,\n",
       "                 &lt;catboost.core.CatBoostClassifier object at 0x000001CAC0639B50&gt;)])</pre></div> </div></div><div class=\"sk-serial\"><div class=\"sk-item\"><div class=\"sk-estimator  sk-toggleable\"><input class=\"sk-toggleable__control sk-hidden--visually\" id=\"sk-estimator-id-2\" type=\"checkbox\" ><label for=\"sk-estimator-id-2\" class=\"sk-toggleable__label  sk-toggleable__label-arrow \">CustomDataPreprocessor</label><div class=\"sk-toggleable__content \"><pre>CustomDataPreprocessor()</pre></div> </div></div><div class=\"sk-item\"><div class=\"sk-estimator  sk-toggleable\"><input class=\"sk-toggleable__control sk-hidden--visually\" id=\"sk-estimator-id-3\" type=\"checkbox\" ><label for=\"sk-estimator-id-3\" class=\"sk-toggleable__label  sk-toggleable__label-arrow \">CatBoostClassifier</label><div class=\"sk-toggleable__content \"><pre>&lt;catboost.core.CatBoostClassifier object at 0x000001CAC0639B50&gt;</pre></div> </div></div></div></div></div></div>"
      ]
     },
     "execution_count": 42,
     "metadata": {},
     "output_type": "execute_result"
    }
   ],
   "execution_count": 42
  },
  {
   "cell_type": "code",
   "id": "4234f576a94fc1e3",
   "metadata": {
    "ExecuteTime": {
     "end_time": "2024-12-03T17:37:25.426425Z",
     "start_time": "2024-12-03T17:37:25.423575Z"
    }
   },
   "source": [
    "piped.get_params().keys()"
   ],
   "outputs": [
    {
     "data": {
      "text/plain": [
       "dict_keys(['memory', 'steps', 'verbose', 'customdatapreprocessor', 'catboostclassifier', 'catboostclassifier__iterations', 'catboostclassifier__learning_rate', 'catboostclassifier__depth', 'catboostclassifier__loss_function', 'catboostclassifier__verbose', 'catboostclassifier__eval_metric', 'catboostclassifier__task_type', 'catboostclassifier__cat_features'])"
      ]
     },
     "execution_count": 43,
     "metadata": {},
     "output_type": "execute_result"
    }
   ],
   "execution_count": 43
  },
  {
   "cell_type": "code",
   "id": "928d780334d7728d",
   "metadata": {
    "ExecuteTime": {
     "end_time": "2024-12-03T17:37:25.441704Z",
     "start_time": "2024-12-03T17:37:25.439345Z"
    }
   },
   "source": [
    "# piped.fit(train,y)"
   ],
   "outputs": [],
   "execution_count": 44
  },
  {
   "cell_type": "code",
   "id": "16df00f7b71b004d",
   "metadata": {
    "ExecuteTime": {
     "end_time": "2024-12-03T17:37:25.459130Z",
     "start_time": "2024-12-03T17:37:25.456008Z"
    }
   },
   "source": [
    "from sklearn.model_selection import GridSearchCV\n",
    "\n",
    "\n",
    "# grid = GridSearchCV(cat.CatBoostClassifier(**params), param_grid_1, cv=2)\n",
    "grid = GridSearchCV(piped, param_grid_1, cv=3, error_score='raise', verbose=3)"
   ],
   "outputs": [],
   "execution_count": 45
  },
  {
   "cell_type": "code",
   "id": "de7c76546a27b27",
   "metadata": {
    "scrolled": true,
    "ExecuteTime": {
     "end_time": "2024-12-03T22:58:33.632510Z",
     "start_time": "2024-12-03T17:37:25.474133Z"
    }
   },
   "source": [
    "grid_model = grid.fit(train,y)"
   ],
   "outputs": [
    {
     "name": "stdout",
     "output_type": "stream",
     "text": [
      "Fitting 3 folds for each of 1 candidates, totalling 3 fits\n",
      "This is the ite_round=1\n",
      "0:\tlearn: 0.6836823\ttotal: 2.11s\tremaining: 1h 38m 15s\n",
      "100:\tlearn: 0.4728697\ttotal: 2m 42s\tremaining: 1h 12m 28s\n",
      "200:\tlearn: 0.4586552\ttotal: 5m 11s\tremaining: 1h 7m 11s\n",
      "300:\tlearn: 0.4531660\ttotal: 7m 40s\tremaining: 1h 3m 40s\n",
      "400:\tlearn: 0.4497021\ttotal: 10m 15s\tremaining: 1h 1m 20s\n",
      "500:\tlearn: 0.4470320\ttotal: 12m 44s\tremaining: 58m 25s\n",
      "600:\tlearn: 0.4446674\ttotal: 15m 11s\tremaining: 55m 33s\n",
      "700:\tlearn: 0.4425868\ttotal: 17m 39s\tremaining: 52m 52s\n",
      "800:\tlearn: 0.4405637\ttotal: 20m 7s\tremaining: 50m 13s\n",
      "900:\tlearn: 0.4387153\ttotal: 22m 33s\tremaining: 47m 32s\n",
      "1000:\tlearn: 0.4369661\ttotal: 24m 58s\tremaining: 44m 53s\n",
      "1100:\tlearn: 0.4353279\ttotal: 27m 27s\tremaining: 42m 22s\n",
      "1200:\tlearn: 0.4337258\ttotal: 29m 54s\tremaining: 39m 48s\n",
      "1300:\tlearn: 0.4322088\ttotal: 32m 19s\tremaining: 37m 15s\n",
      "1400:\tlearn: 0.4306207\ttotal: 34m 44s\tremaining: 34m 41s\n",
      "1500:\tlearn: 0.4289699\ttotal: 37m 14s\tremaining: 32m 13s\n",
      "1600:\tlearn: 0.4275410\ttotal: 39m 32s\tremaining: 29m 36s\n",
      "1700:\tlearn: 0.4259261\ttotal: 42m\tremaining: 27m 8s\n",
      "1800:\tlearn: 0.4245018\ttotal: 44m 21s\tremaining: 24m 36s\n",
      "1900:\tlearn: 0.4229928\ttotal: 46m 46s\tremaining: 22m 7s\n",
      "2000:\tlearn: 0.4215499\ttotal: 49m 13s\tremaining: 19m 39s\n",
      "2100:\tlearn: 0.4201047\ttotal: 51m 40s\tremaining: 17m 11s\n",
      "2200:\tlearn: 0.4187105\ttotal: 54m 9s\tremaining: 14m 44s\n",
      "2300:\tlearn: 0.4172328\ttotal: 56m 37s\tremaining: 12m 16s\n",
      "2400:\tlearn: 0.4157830\ttotal: 59m 5s\tremaining: 9m 49s\n",
      "2500:\tlearn: 0.4144428\ttotal: 1h 1m 33s\tremaining: 7m 21s\n",
      "2600:\tlearn: 0.4129774\ttotal: 1h 4m 1s\tremaining: 4m 53s\n",
      "2700:\tlearn: 0.4115331\ttotal: 1h 6m 31s\tremaining: 2m 26s\n",
      "2799:\tlearn: 0.4102184\ttotal: 1h 9m\tremaining: 0us\n",
      "This is the ite_round=2\n",
      "[CV 1/3] END catboostclassifier__depth=6, catboostclassifier__iterations=2800;, score=0.794 total time=74.2min\n",
      "This is the ite_round=3\n",
      "0:\tlearn: 0.6836274\ttotal: 2.1s\tremaining: 1h 38m 3s\n",
      "100:\tlearn: 0.4732829\ttotal: 2m 49s\tremaining: 1h 15m 24s\n",
      "200:\tlearn: 0.4593884\ttotal: 5m 21s\tremaining: 1h 9m 17s\n",
      "300:\tlearn: 0.4540951\ttotal: 7m 51s\tremaining: 1h 5m 16s\n",
      "400:\tlearn: 0.4507492\ttotal: 10m 25s\tremaining: 1h 2m 19s\n",
      "500:\tlearn: 0.4481991\ttotal: 13m 1s\tremaining: 59m 44s\n",
      "600:\tlearn: 0.4459951\ttotal: 15m 30s\tremaining: 56m 43s\n",
      "700:\tlearn: 0.4439902\ttotal: 18m 6s\tremaining: 54m 12s\n",
      "800:\tlearn: 0.4419773\ttotal: 20m 38s\tremaining: 51m 30s\n",
      "900:\tlearn: 0.4400352\ttotal: 23m 10s\tremaining: 48m 50s\n",
      "1000:\tlearn: 0.4382000\ttotal: 25m 44s\tremaining: 46m 14s\n",
      "1100:\tlearn: 0.4364325\ttotal: 28m 16s\tremaining: 43m 37s\n",
      "1200:\tlearn: 0.4347812\ttotal: 30m 47s\tremaining: 40m 59s\n",
      "1300:\tlearn: 0.4331158\ttotal: 33m 21s\tremaining: 38m 25s\n",
      "1400:\tlearn: 0.4315904\ttotal: 35m 49s\tremaining: 35m 46s\n",
      "1500:\tlearn: 0.4299678\ttotal: 38m 24s\tremaining: 33m 14s\n",
      "1600:\tlearn: 0.4284346\ttotal: 40m 54s\tremaining: 30m 38s\n",
      "1700:\tlearn: 0.4269470\ttotal: 43m 30s\tremaining: 28m 6s\n",
      "1800:\tlearn: 0.4254046\ttotal: 46m 4s\tremaining: 25m 33s\n",
      "1900:\tlearn: 0.4237136\ttotal: 48m 38s\tremaining: 23m\n",
      "2000:\tlearn: 0.4222665\ttotal: 51m 11s\tremaining: 20m 26s\n",
      "2100:\tlearn: 0.4207990\ttotal: 53m 45s\tremaining: 17m 53s\n",
      "2200:\tlearn: 0.4193461\ttotal: 56m 20s\tremaining: 15m 19s\n",
      "2300:\tlearn: 0.4178858\ttotal: 58m 48s\tremaining: 12m 45s\n",
      "2400:\tlearn: 0.4165400\ttotal: 1h 1m 21s\tremaining: 10m 11s\n",
      "2500:\tlearn: 0.4152899\ttotal: 1h 3m 48s\tremaining: 7m 37s\n",
      "2600:\tlearn: 0.4139356\ttotal: 1h 6m 21s\tremaining: 5m 4s\n",
      "2700:\tlearn: 0.4126326\ttotal: 1h 8m 53s\tremaining: 2m 31s\n",
      "2799:\tlearn: 0.4113638\ttotal: 1h 11m 25s\tremaining: 0us\n",
      "This is the ite_round=4\n",
      "[CV 2/3] END catboostclassifier__depth=6, catboostclassifier__iterations=2800;, score=0.794 total time=77.2min\n",
      "This is the ite_round=5\n",
      "0:\tlearn: 0.6836993\ttotal: 2.01s\tremaining: 1h 33m 48s\n",
      "100:\tlearn: 0.4741051\ttotal: 2m 50s\tremaining: 1h 16m 5s\n",
      "200:\tlearn: 0.4597360\ttotal: 5m 28s\tremaining: 1h 10m 42s\n",
      "300:\tlearn: 0.4544030\ttotal: 8m 7s\tremaining: 1h 7m 23s\n",
      "400:\tlearn: 0.4509859\ttotal: 10m 42s\tremaining: 1h 4m 3s\n",
      "500:\tlearn: 0.4483963\ttotal: 13m 16s\tremaining: 1h 56s\n",
      "600:\tlearn: 0.4461373\ttotal: 15m 55s\tremaining: 58m 15s\n",
      "700:\tlearn: 0.4440228\ttotal: 18m 33s\tremaining: 55m 33s\n",
      "800:\tlearn: 0.4421015\ttotal: 21m 9s\tremaining: 52m 48s\n",
      "900:\tlearn: 0.4403016\ttotal: 23m 41s\tremaining: 49m 57s\n",
      "1000:\tlearn: 0.4384708\ttotal: 26m 19s\tremaining: 47m 18s\n",
      "1100:\tlearn: 0.4367185\ttotal: 28m 52s\tremaining: 44m 33s\n",
      "1200:\tlearn: 0.4350566\ttotal: 31m 28s\tremaining: 41m 53s\n",
      "1300:\tlearn: 0.4334460\ttotal: 34m\tremaining: 39m 11s\n",
      "1400:\tlearn: 0.4317806\ttotal: 36m 33s\tremaining: 36m 30s\n",
      "1500:\tlearn: 0.4302169\ttotal: 39m 9s\tremaining: 33m 53s\n",
      "1600:\tlearn: 0.4286095\ttotal: 41m 46s\tremaining: 31m 16s\n",
      "1700:\tlearn: 0.4271181\ttotal: 44m 22s\tremaining: 28m 40s\n",
      "1800:\tlearn: 0.4254911\ttotal: 46m 59s\tremaining: 26m 3s\n",
      "1900:\tlearn: 0.4239605\ttotal: 49m 36s\tremaining: 23m 27s\n",
      "2000:\tlearn: 0.4224036\ttotal: 52m 11s\tremaining: 20m 50s\n",
      "2100:\tlearn: 0.4209667\ttotal: 54m 46s\tremaining: 18m 13s\n",
      "2200:\tlearn: 0.4194423\ttotal: 57m 20s\tremaining: 15m 36s\n",
      "2300:\tlearn: 0.4179206\ttotal: 59m 55s\tremaining: 12m 59s\n",
      "2400:\tlearn: 0.4165306\ttotal: 1h 2m 27s\tremaining: 10m 22s\n",
      "2500:\tlearn: 0.4150710\ttotal: 1h 5m 6s\tremaining: 7m 47s\n",
      "2600:\tlearn: 0.4136624\ttotal: 1h 7m 39s\tremaining: 5m 10s\n",
      "2700:\tlearn: 0.4122562\ttotal: 1h 10m 11s\tremaining: 2m 34s\n",
      "2799:\tlearn: 0.4109085\ttotal: 1h 12m 44s\tremaining: 0us\n",
      "This is the ite_round=6\n",
      "[CV 3/3] END catboostclassifier__depth=6, catboostclassifier__iterations=2800;, score=0.797 total time=80.1min\n",
      "This is the ite_round=7\n",
      "0:\tlearn: 0.6836149\ttotal: 2.32s\tremaining: 1h 48m 6s\n",
      "100:\tlearn: 0.4705688\ttotal: 3m 2s\tremaining: 1h 21m 25s\n",
      "200:\tlearn: 0.4549214\ttotal: 5m 53s\tremaining: 1h 16m 8s\n",
      "300:\tlearn: 0.4494759\ttotal: 8m 41s\tremaining: 1h 12m 8s\n",
      "400:\tlearn: 0.4462806\ttotal: 11m 29s\tremaining: 1h 8m 46s\n",
      "500:\tlearn: 0.4439357\ttotal: 14m 22s\tremaining: 1h 5m 58s\n",
      "600:\tlearn: 0.4422003\ttotal: 17m 10s\tremaining: 1h 2m 49s\n",
      "700:\tlearn: 0.4406863\ttotal: 19m 59s\tremaining: 59m 51s\n",
      "800:\tlearn: 0.4392555\ttotal: 22m 48s\tremaining: 56m 56s\n",
      "900:\tlearn: 0.4378327\ttotal: 25m 35s\tremaining: 53m 57s\n",
      "1000:\tlearn: 0.4365857\ttotal: 28m 20s\tremaining: 50m 56s\n",
      "1100:\tlearn: 0.4352197\ttotal: 31m 12s\tremaining: 48m 10s\n",
      "1200:\tlearn: 0.4339789\ttotal: 34m 3s\tremaining: 45m 20s\n",
      "1300:\tlearn: 0.4327748\ttotal: 36m 54s\tremaining: 42m 31s\n",
      "1400:\tlearn: 0.4315868\ttotal: 39m 52s\tremaining: 39m 49s\n",
      "1500:\tlearn: 0.4304855\ttotal: 42m 38s\tremaining: 36m 54s\n",
      "1600:\tlearn: 0.4294153\ttotal: 45m 34s\tremaining: 34m 7s\n",
      "1700:\tlearn: 0.4283003\ttotal: 48m 25s\tremaining: 31m 17s\n",
      "1800:\tlearn: 0.4272538\ttotal: 51m 20s\tremaining: 28m 28s\n",
      "1900:\tlearn: 0.4263087\ttotal: 54m 10s\tremaining: 25m 37s\n",
      "2000:\tlearn: 0.4251847\ttotal: 57m 7s\tremaining: 22m 48s\n",
      "2100:\tlearn: 0.4241502\ttotal: 1h 5s\tremaining: 19m 59s\n",
      "2200:\tlearn: 0.4231297\ttotal: 1h 2m 59s\tremaining: 17m 8s\n",
      "2300:\tlearn: 0.4221098\ttotal: 1h 5m 48s\tremaining: 14m 16s\n",
      "2400:\tlearn: 0.4210741\ttotal: 1h 8m 36s\tremaining: 11m 24s\n",
      "2500:\tlearn: 0.4199993\ttotal: 1h 11m 23s\tremaining: 8m 32s\n",
      "2600:\tlearn: 0.4189833\ttotal: 1h 14m 12s\tremaining: 5m 40s\n",
      "2700:\tlearn: 0.4180201\ttotal: 1h 17m 6s\tremaining: 2m 49s\n",
      "2799:\tlearn: 0.4170440\ttotal: 1h 19m 56s\tremaining: 0us\n"
     ]
    }
   ],
   "execution_count": 46
  },
  {
   "cell_type": "code",
   "id": "374a8c7149055ebb",
   "metadata": {
    "ExecuteTime": {
     "end_time": "2024-12-03T22:58:33.668556Z",
     "start_time": "2024-12-03T22:58:33.665121Z"
    }
   },
   "source": [
    "grid.best_params_"
   ],
   "outputs": [
    {
     "data": {
      "text/plain": [
       "{'catboostclassifier__depth': 6, 'catboostclassifier__iterations': 2800}"
      ]
     },
     "execution_count": 47,
     "metadata": {},
     "output_type": "execute_result"
    }
   ],
   "execution_count": 47
  },
  {
   "cell_type": "code",
   "id": "8d6ee0c594507c2d",
   "metadata": {
    "ExecuteTime": {
     "end_time": "2024-12-03T22:58:33.717860Z",
     "start_time": "2024-12-03T22:58:33.714560Z"
    }
   },
   "source": [
    "grid.cv_results_"
   ],
   "outputs": [
    {
     "data": {
      "text/plain": [
       "{'mean_fit_time': array([4590.27944557]),\n",
       " 'std_fit_time': array([139.78377339]),\n",
       " 'mean_score_time': array([41.59855223]),\n",
       " 'std_score_time': array([4.12812302]),\n",
       " 'param_catboostclassifier__depth': masked_array(data=[6],\n",
       "              mask=[False],\n",
       "        fill_value=999999),\n",
       " 'param_catboostclassifier__iterations': masked_array(data=[2800],\n",
       "              mask=[False],\n",
       "        fill_value=999999),\n",
       " 'params': [{'catboostclassifier__depth': 6,\n",
       "   'catboostclassifier__iterations': 2800}],\n",
       " 'split0_test_score': array([0.79439473]),\n",
       " 'split1_test_score': array([0.79439473]),\n",
       " 'split2_test_score': array([0.79678274]),\n",
       " 'mean_test_score': array([0.79519073]),\n",
       " 'std_test_score': array([0.00112572]),\n",
       " 'rank_test_score': array([1])}"
      ]
     },
     "execution_count": 48,
     "metadata": {},
     "output_type": "execute_result"
    }
   ],
   "execution_count": 48
  },
  {
   "cell_type": "code",
   "id": "9ab01cc5ab7e3c6c",
   "metadata": {
    "ExecuteTime": {
     "end_time": "2024-12-03T22:58:33.735165Z",
     "start_time": "2024-12-03T22:58:33.732017Z"
    }
   },
   "source": [
    "# y_pred = grid.best_estimator_[1].predict_proba(test_data)\n"
   ],
   "outputs": [],
   "execution_count": 49
  },
  {
   "cell_type": "code",
   "id": "9be4cec4-dd43-4095-9d66-2817fffe6323",
   "metadata": {
    "ExecuteTime": {
     "end_time": "2024-12-03T23:01:27.418145Z",
     "start_time": "2024-12-03T22:58:33.753670Z"
    }
   },
   "source": [
    "y_pred = fit_model.predict_proba(test)"
   ],
   "outputs": [],
   "execution_count": 50
  },
  {
   "cell_type": "code",
   "id": "36241726-e6ee-457f-a81b-6d959bff40e8",
   "metadata": {
    "ExecuteTime": {
     "end_time": "2024-12-03T23:01:27.456744Z",
     "start_time": "2024-12-03T23:01:27.453674Z"
    }
   },
   "source": [
    "y_pred.shape"
   ],
   "outputs": [
    {
     "data": {
      "text/plain": [
       "(114393, 2)"
      ]
     },
     "execution_count": 51,
     "metadata": {},
     "output_type": "execute_result"
    }
   ],
   "execution_count": 51
  },
  {
   "cell_type": "code",
   "id": "12675fe2bd4737f4",
   "metadata": {
    "ExecuteTime": {
     "end_time": "2024-12-03T23:01:27.625119Z",
     "start_time": "2024-12-03T23:01:27.476117Z"
    }
   },
   "source": [
    "submission = pd.read_csv(\"sample_submission.csv\")\n",
    "submission['PredictedProb'] = y_pred[:,1]\n",
    "submission.to_csv('submission_20241013_1900_grid_.csv', index=False)"
   ],
   "outputs": [],
   "execution_count": 52
  },
  {
   "cell_type": "code",
   "id": "98ce9bd7-c408-4976-9f21-dd2311fa6a49",
   "metadata": {
    "ExecuteTime": {
     "end_time": "2024-12-03T23:01:27.630326Z",
     "start_time": "2024-12-03T23:01:27.627387Z"
    }
   },
   "source": [
    "fit_model.get_best_iteration()"
   ],
   "outputs": [],
   "execution_count": 53
  },
  {
   "cell_type": "code",
   "id": "56083edbd7a7853c",
   "metadata": {
    "ExecuteTime": {
     "end_time": "2024-12-03T23:01:27.651931Z",
     "start_time": "2024-12-03T23:01:27.647329Z"
    }
   },
   "source": [
    "pd.DataFrame(grid.cv_results_).to_csv(\"cv_results_.csv\",index=True)"
   ],
   "outputs": [],
   "execution_count": 54
  },
  {
   "cell_type": "code",
   "id": "2b5ba9a130f6dc66",
   "metadata": {
    "ExecuteTime": {
     "end_time": "2024-12-03T23:01:29.808873Z",
     "start_time": "2024-12-03T23:01:27.667909Z"
    }
   },
   "source": [
    "# Save the grid search model\n",
    "joblib.dump(grid, 'grid_search_model.pkl')\n",
    "# Load the model\n",
    "# loaded_model = joblib.load('grid_search_model.pkl')"
   ],
   "outputs": [
    {
     "data": {
      "text/plain": [
       "['grid_search_model.pkl']"
      ]
     },
     "execution_count": 55,
     "metadata": {},
     "output_type": "execute_result"
    }
   ],
   "execution_count": 55
  },
  {
   "cell_type": "code",
   "id": "b36f04582c196580",
   "metadata": {
    "ExecuteTime": {
     "end_time": "2024-12-03T23:01:29.867903Z",
     "start_time": "2024-12-03T23:01:29.826364Z"
    }
   },
   "source": [
    "#save feature importance of grid search\n",
    "fit_model = grid_model.best_estimator_[1]\n",
    "features = fit_model.feature_names_\n",
    "feature_importances = fit_model.get_feature_importance()\n",
    "featimp_df = pd.DataFrame({'importance':feature_importances, 'feature':features}).sort_values(by=['importance'],ascending=False)\n",
    "featimp_df.to_csv('featimp_20241012_2100_8gpu_runpod_grid_.csv', index=True)"
   ],
   "outputs": [],
   "execution_count": 56
  },
  {
   "cell_type": "code",
   "id": "31cc339ba742cfe2",
   "metadata": {
    "ExecuteTime": {
     "end_time": "2024-12-03T23:01:29.888011Z",
     "start_time": "2024-12-03T23:01:29.885007Z"
    }
   },
   "source": [
    "# Load the model back\n",
    "# fit_model = cat.CatBoostClassifier()\n",
    "# fit_model.load_model(\"model_20241012_1720_8gpu_num2cat_num999_longparam.cbm\")\n",
    "# best_estimator = fit_model.best_estimator_[1]\n",
    "# features = best_estimator.feature_names_\n",
    "# feature_importances = best_estimator.get_feature_importance()\n",
    "# featimp_df = pd.DataFrame({'importance':feature_importances, 'feature':features}).sort_values(by=['importance'],ascending=False)\n",
    "# featimp_df.to_csv('featimp_20241012_2100_8gpu_runpod_grid_2100_6.csv', index=True)\n",
    "# important_features = featimp_df['feature'].to_list()"
   ],
   "outputs": [],
   "execution_count": 57
  },
  {
   "cell_type": "code",
   "id": "3427663f-6494-43f1-be05-55ffd2268e8e",
   "metadata": {
    "ExecuteTime": {
     "end_time": "2024-12-03T23:01:32.101688Z",
     "start_time": "2024-12-03T23:01:29.905142Z"
    }
   },
   "source": [
    "joblib.dump(fit_model, 'fit_model.pkl')"
   ],
   "outputs": [
    {
     "data": {
      "text/plain": [
       "['fit_model.pkl']"
      ]
     },
     "execution_count": 58,
     "metadata": {},
     "output_type": "execute_result"
    }
   ],
   "execution_count": 58
  },
  {
   "cell_type": "code",
   "id": "2f0a0a5c-5beb-414d-93d5-db583690f6b5",
   "metadata": {
    "ExecuteTime": {
     "end_time": "2024-12-03T23:01:32.178401Z",
     "start_time": "2024-12-03T23:01:32.138309Z"
    }
   },
   "source": [
    "features = fit_model.feature_names_\n",
    "feature_importances = fit_model.get_feature_importance()\n",
    "featimp_df = pd.DataFrame({'importance':feature_importances, 'feature':features}).sort_values(by=['importance'],ascending=False)\n",
    "featimp_df.to_csv('featimp.csv', index=True)"
   ],
   "outputs": [],
   "execution_count": 59
  },
  {
   "cell_type": "code",
   "id": "63e5218f-d55b-4039-96ff-51d0ca530016",
   "metadata": {
    "ExecuteTime": {
     "end_time": "2024-12-03T23:01:32.182309Z",
     "start_time": "2024-12-03T23:01:32.180404Z"
    }
   },
   "source": [],
   "outputs": [],
   "execution_count": null
  }
 ],
 "metadata": {
  "kernelspec": {
   "display_name": "Python 3 (ipykernel)",
   "language": "python",
   "name": "python3"
  },
  "language_info": {
   "codemirror_mode": {
    "name": "ipython",
    "version": 3
   },
   "file_extension": ".py",
   "mimetype": "text/x-python",
   "name": "python",
   "nbconvert_exporter": "python",
   "pygments_lexer": "ipython3",
   "version": "3.10.12"
  }
 },
 "nbformat": 4,
 "nbformat_minor": 5
}
